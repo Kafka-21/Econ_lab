{
 "metadata": {
  "language_info": {
   "codemirror_mode": {
    "name": "ipython",
    "version": 3
   },
   "file_extension": ".py",
   "mimetype": "text/x-python",
   "name": "python",
   "nbconvert_exporter": "python",
   "pygments_lexer": "ipython3",
   "version": "3.7.7-final"
  },
  "orig_nbformat": 2,
  "kernelspec": {
   "name": "python37764bituntitled1conda4a48feaffc41422ab89c08e8f7ba65a3",
   "display_name": "Python 3.7.7 64-bit ('untitled1': conda)"
  }
 },
 "nbformat": 4,
 "nbformat_minor": 2,
 "cells": [
  {
   "cell_type": "code",
   "execution_count": 1,
   "metadata": {},
   "outputs": [
    {
     "output_type": "error",
     "ename": "OSError",
     "evalue": "/users/quasar/downloads/Machine_Learning_Health_care/DHS_NFHS_dataset_original/IACR74FL/IACR74FL.DAT not found.",
     "traceback": [
      "\u001b[0;31m---------------------------------------------------------------------------\u001b[0m",
      "\u001b[0;31mOSError\u001b[0m                                   Traceback (most recent call last)",
      "\u001b[0;32m<ipython-input-1-6e20fa9317f6>\u001b[0m in \u001b[0;36m<module>\u001b[0;34m\u001b[0m\n\u001b[1;32m      1\u001b[0m \u001b[0;32mimport\u001b[0m \u001b[0mnumpy\u001b[0m \u001b[0;32mas\u001b[0m \u001b[0mnp\u001b[0m\u001b[0;34m\u001b[0m\u001b[0;34m\u001b[0m\u001b[0m\n\u001b[1;32m      2\u001b[0m \u001b[0;34m\u001b[0m\u001b[0m\n\u001b[0;32m----> 3\u001b[0;31m \u001b[0mx\u001b[0m \u001b[0;34m=\u001b[0m \u001b[0mnp\u001b[0m\u001b[0;34m.\u001b[0m\u001b[0mloadtxt\u001b[0m\u001b[0;34m(\u001b[0m\u001b[0;34m\"/users/quasar/downloads/Machine_Learning_Health_care/DHS_NFHS_dataset_original/IACR74FL/IACR74FL.DAT\"\u001b[0m\u001b[0;34m,\u001b[0m \u001b[0munpack\u001b[0m \u001b[0;34m=\u001b[0m \u001b[0;32mTrue\u001b[0m\u001b[0;34m)\u001b[0m\u001b[0;34m\u001b[0m\u001b[0;34m\u001b[0m\u001b[0m\n\u001b[0m",
      "\u001b[0;32m~/.conda/envs/untitled1/lib/python3.7/site-packages/numpy/lib/npyio.py\u001b[0m in \u001b[0;36mloadtxt\u001b[0;34m(fname, dtype, comments, delimiter, converters, skiprows, usecols, unpack, ndmin, encoding, max_rows)\u001b[0m\n\u001b[1;32m    959\u001b[0m             \u001b[0mfname\u001b[0m \u001b[0;34m=\u001b[0m \u001b[0mos_fspath\u001b[0m\u001b[0;34m(\u001b[0m\u001b[0mfname\u001b[0m\u001b[0;34m)\u001b[0m\u001b[0;34m\u001b[0m\u001b[0;34m\u001b[0m\u001b[0m\n\u001b[1;32m    960\u001b[0m         \u001b[0;32mif\u001b[0m \u001b[0m_is_string_like\u001b[0m\u001b[0;34m(\u001b[0m\u001b[0mfname\u001b[0m\u001b[0;34m)\u001b[0m\u001b[0;34m:\u001b[0m\u001b[0;34m\u001b[0m\u001b[0;34m\u001b[0m\u001b[0m\n\u001b[0;32m--> 961\u001b[0;31m             \u001b[0mfh\u001b[0m \u001b[0;34m=\u001b[0m \u001b[0mnp\u001b[0m\u001b[0;34m.\u001b[0m\u001b[0mlib\u001b[0m\u001b[0;34m.\u001b[0m\u001b[0m_datasource\u001b[0m\u001b[0;34m.\u001b[0m\u001b[0mopen\u001b[0m\u001b[0;34m(\u001b[0m\u001b[0mfname\u001b[0m\u001b[0;34m,\u001b[0m \u001b[0;34m'rt'\u001b[0m\u001b[0;34m,\u001b[0m \u001b[0mencoding\u001b[0m\u001b[0;34m=\u001b[0m\u001b[0mencoding\u001b[0m\u001b[0;34m)\u001b[0m\u001b[0;34m\u001b[0m\u001b[0;34m\u001b[0m\u001b[0m\n\u001b[0m\u001b[1;32m    962\u001b[0m             \u001b[0mfencoding\u001b[0m \u001b[0;34m=\u001b[0m \u001b[0mgetattr\u001b[0m\u001b[0;34m(\u001b[0m\u001b[0mfh\u001b[0m\u001b[0;34m,\u001b[0m \u001b[0;34m'encoding'\u001b[0m\u001b[0;34m,\u001b[0m \u001b[0;34m'latin1'\u001b[0m\u001b[0;34m)\u001b[0m\u001b[0;34m\u001b[0m\u001b[0;34m\u001b[0m\u001b[0m\n\u001b[1;32m    963\u001b[0m             \u001b[0mfh\u001b[0m \u001b[0;34m=\u001b[0m \u001b[0miter\u001b[0m\u001b[0;34m(\u001b[0m\u001b[0mfh\u001b[0m\u001b[0;34m)\u001b[0m\u001b[0;34m\u001b[0m\u001b[0;34m\u001b[0m\u001b[0m\n",
      "\u001b[0;32m~/.conda/envs/untitled1/lib/python3.7/site-packages/numpy/lib/_datasource.py\u001b[0m in \u001b[0;36mopen\u001b[0;34m(path, mode, destpath, encoding, newline)\u001b[0m\n\u001b[1;32m    193\u001b[0m \u001b[0;34m\u001b[0m\u001b[0m\n\u001b[1;32m    194\u001b[0m     \u001b[0mds\u001b[0m \u001b[0;34m=\u001b[0m \u001b[0mDataSource\u001b[0m\u001b[0;34m(\u001b[0m\u001b[0mdestpath\u001b[0m\u001b[0;34m)\u001b[0m\u001b[0;34m\u001b[0m\u001b[0;34m\u001b[0m\u001b[0m\n\u001b[0;32m--> 195\u001b[0;31m     \u001b[0;32mreturn\u001b[0m \u001b[0mds\u001b[0m\u001b[0;34m.\u001b[0m\u001b[0mopen\u001b[0m\u001b[0;34m(\u001b[0m\u001b[0mpath\u001b[0m\u001b[0;34m,\u001b[0m \u001b[0mmode\u001b[0m\u001b[0;34m,\u001b[0m \u001b[0mencoding\u001b[0m\u001b[0;34m=\u001b[0m\u001b[0mencoding\u001b[0m\u001b[0;34m,\u001b[0m \u001b[0mnewline\u001b[0m\u001b[0;34m=\u001b[0m\u001b[0mnewline\u001b[0m\u001b[0;34m)\u001b[0m\u001b[0;34m\u001b[0m\u001b[0;34m\u001b[0m\u001b[0m\n\u001b[0m\u001b[1;32m    196\u001b[0m \u001b[0;34m\u001b[0m\u001b[0m\n\u001b[1;32m    197\u001b[0m \u001b[0;34m\u001b[0m\u001b[0m\n",
      "\u001b[0;32m~/.conda/envs/untitled1/lib/python3.7/site-packages/numpy/lib/_datasource.py\u001b[0m in \u001b[0;36mopen\u001b[0;34m(self, path, mode, encoding, newline)\u001b[0m\n\u001b[1;32m    533\u001b[0m                                       encoding=encoding, newline=newline)\n\u001b[1;32m    534\u001b[0m         \u001b[0;32melse\u001b[0m\u001b[0;34m:\u001b[0m\u001b[0;34m\u001b[0m\u001b[0;34m\u001b[0m\u001b[0m\n\u001b[0;32m--> 535\u001b[0;31m             \u001b[0;32mraise\u001b[0m \u001b[0mIOError\u001b[0m\u001b[0;34m(\u001b[0m\u001b[0;34m\"%s not found.\"\u001b[0m \u001b[0;34m%\u001b[0m \u001b[0mpath\u001b[0m\u001b[0;34m)\u001b[0m\u001b[0;34m\u001b[0m\u001b[0;34m\u001b[0m\u001b[0m\n\u001b[0m\u001b[1;32m    536\u001b[0m \u001b[0;34m\u001b[0m\u001b[0m\n\u001b[1;32m    537\u001b[0m \u001b[0;34m\u001b[0m\u001b[0m\n",
      "\u001b[0;31mOSError\u001b[0m: /users/quasar/downloads/Machine_Learning_Health_care/DHS_NFHS_dataset_original/IACR74FL/IACR74FL.DAT not found."
     ]
    }
   ],
   "source": [
    "import numpy as np\n",
    "\n",
    "x = np.loadtxt(\"/users/quasar/downloads/Machine_Learning_Health_care/DHS_NFHS_dataset_original/IACR74FL/IACR74FL.DAT\", unpack = True)"
   ]
  },
  {
   "cell_type": "code",
   "execution_count": 16,
   "metadata": {},
   "outputs": [
    {
     "output_type": "stream",
     "name": "stdout",
     "text": [
      "0        0\n1        0\n2        0\n3        0\n4        0\n        ..\n63691    0\n63692    0\n63693    0\n63694    0\n63695    0\nName: v213, Length: 63696, dtype: int8\n"
     ]
    }
   ],
   "source": [
    "import pandas as pd \n",
    "\n",
    "df = pd.read_stata('/users/quasar/downloads/Machine_Learning_Health_care/DHS_NFHS_dataset_original/2015_16/IACR74DT/IACR74FL.DTA', convert_categoricals= False)\n",
    "\n",
    "table = pd.pivot_table(df, )"
   ]
  },
  {
   "cell_type": "code",
   "execution_count": 11,
   "metadata": {},
   "outputs": [
    {
     "output_type": "execute_result",
     "data": {
      "text/plain": [
       "Index(['caseid', 'v000', 'v001', 'v002', 'v003', 'v004', 'v005', 'v006',\n",
       "       'v007', 'v008',\n",
       "       ...\n",
       "       's565b_3', 's565b_4', 's565b_5', 's565b_6', 's565c_1', 's565c_2',\n",
       "       's565c_3', 's565c_4', 's565c_5', 's565c_6'],\n",
       "      dtype='object', length=2859)"
      ]
     },
     "metadata": {},
     "execution_count": 11
    }
   ],
   "source": [
    "import pandas as pd\n",
    "\n",
    "df = pd.read_stata('/users/quasar/downloads/Machine_Learning_Health_care/DHS_NFHS_dataset_original/IACR74DT/IACR74FL.DTA', convert_categoricals = False )\n",
    "\n",
    "df.columns"
   ]
  },
  {
   "cell_type": "code",
   "execution_count": 9,
   "metadata": {},
   "outputs": [
    {
     "output_type": "execute_result",
     "data": {
      "text/plain": [
       "             CASEID V000     V001  V002  V003  V004      V005  V006    V007  \\\n",
       "0    01000117    02  IA6  10001.0  17.0   2.0   1.0  191760.0   7.0  2015.0   \n",
       "1    01000130    02  IA6  10001.0  30.0   2.0   1.0  191760.0   7.0  2015.0   \n",
       "2    01000152    02  IA6  10001.0  52.0   2.0   1.0  191760.0   7.0  2015.0   \n",
       "3    01000157    02  IA6  10001.0  57.0   2.0   1.0  191760.0   7.0  2015.0   \n",
       "4    01000172    02  IA6  10001.0  72.0   2.0   1.0  191760.0   7.0  2015.0   \n",
       "5    01000196    02  IA6  10001.0  96.0   2.0   1.0  191760.0   7.0  2015.0   \n",
       "6    01000506    02  IA6  10005.0   6.0   2.0   5.0   24895.0   5.0  2015.0   \n",
       "7    01000534    02  IA6  10005.0  34.0   2.0   5.0   24895.0   5.0  2015.0   \n",
       "8    01000535    02  IA6  10005.0  35.0   2.0   5.0   24895.0   5.0  2015.0   \n",
       "9    01000558    02  IA6  10005.0  58.0   2.0   5.0   24895.0   5.0  2015.0   \n",
       "10   01000561    02  IA6  10005.0  61.0   2.0   5.0   24895.0   5.0  2015.0   \n",
       "11   01000576    02  IA6  10005.0  76.0   2.0   5.0   24895.0   5.0  2015.0   \n",
       "12   01000705    04  IA6  10007.0   5.0   4.0   7.0    1204.0   5.0  2015.0   \n",
       "13   01000709    02  IA6  10007.0   9.0   2.0   7.0    1204.0   4.0  2015.0   \n",
       "14   01000743    02  IA6  10007.0  43.0   2.0   7.0    1204.0   4.0  2015.0   \n",
       "15   01000752    02  IA6  10007.0  52.0   2.0   7.0    1204.0   5.0  2015.0   \n",
       "16   01000755    02  IA6  10007.0  55.0   2.0   7.0    1204.0   5.0  2015.0   \n",
       "17   01000789    02  IA6  10007.0  89.0   2.0   7.0    1204.0   5.0  2015.0   \n",
       "18   01001950    04  IA6  10019.0  50.0   4.0  19.0   66093.0   6.0  2015.0   \n",
       "19   01001962    03  IA6  10019.0  62.0   3.0  19.0   66093.0   7.0  2015.0   \n",
       "20   01001983    02  IA6  10019.0  83.0   2.0  19.0   66093.0   6.0  2015.0   \n",
       "21   01001984    02  IA6  10019.0  84.0   2.0  19.0   66093.0   7.0  2015.0   \n",
       "22   01002105    02  IA6  10021.0   5.0   2.0  21.0   19582.0   7.0  2015.0   \n",
       "23   01002106    02  IA6  10021.0   6.0   2.0  21.0   19582.0   7.0  2015.0   \n",
       "24   01002111    03  IA6  10021.0  11.0   3.0  21.0   19582.0   7.0  2015.0   \n",
       "25   01002111    06  IA6  10021.0  11.0   6.0  21.0   19582.0   7.0  2015.0   \n",
       "26   01002120    06  IA6  10021.0  20.0   6.0  21.0   19582.0   7.0  2015.0   \n",
       "27   01002142    02  IA6  10021.0  42.0   2.0  21.0   19582.0   7.0  2015.0   \n",
       "28   01002155    02  IA6  10021.0  55.0   2.0  21.0   19582.0   7.0  2015.0   \n",
       "29   01002180    02  IA6  10021.0  80.0   2.0  21.0   19582.0   7.0  2015.0   \n",
       "30   01002186    02  IA6  10021.0  86.0   2.0  21.0   19582.0   7.0  2015.0   \n",
       "31   01002192    02  IA6  10021.0  92.0   2.0  21.0   19582.0   7.0  2015.0   \n",
       "32   01002907    02  IA6  10029.0   7.0   2.0  29.0   17331.0   7.0  2015.0   \n",
       "33   01002907    06  IA6  10029.0   7.0   6.0  29.0   17331.0   7.0  2015.0   \n",
       "34   01002918    02  IA6  10029.0  18.0   2.0  29.0   17331.0   7.0  2015.0   \n",
       "35   01002926    02  IA6  10029.0  26.0   2.0  29.0   17331.0   7.0  2015.0   \n",
       "36   01002960    03  IA6  10029.0  60.0   3.0  29.0   17331.0   7.0  2015.0   \n",
       "37   01002960    07  IA6  10029.0  60.0   7.0  29.0   17331.0   7.0  2015.0   \n",
       "38   01002967    10  IA6  10029.0  67.0  10.0  29.0   17331.0   7.0  2015.0   \n",
       "39   01002971    05  IA6  10029.0  71.0   5.0  29.0   17331.0   7.0  2015.0   \n",
       "40   01002971    09  IA6  10029.0  71.0   9.0  29.0   17331.0   7.0  2015.0   \n",
       "41   01002990    02  IA6  10029.0  90.0   2.0  29.0   17331.0   7.0  2015.0   \n",
       "42   01002990    04  IA6  10029.0  90.0   4.0  29.0   17331.0   7.0  2015.0   \n",
       "43   01003341    04  IA6  10033.0  41.0   4.0  33.0   73050.0   6.0  2015.0   \n",
       "44   01003355    02  IA6  10033.0  55.0   2.0  33.0   73050.0   6.0  2015.0   \n",
       "45   01003384    02  IA6  10033.0  84.0   2.0  33.0   73050.0   6.0  2015.0   \n",
       "46   01003389    02  IA6  10033.0  89.0   2.0  33.0   73050.0   6.0  2015.0   \n",
       "47   01004008    04  IA6  10040.0   8.0   4.0  40.0   88441.0   7.0  2015.0   \n",
       "48   01004018    04  IA6  10040.0  18.0   4.0  40.0   88441.0   7.0  2015.0   \n",
       "49   01004046    02  IA6  10040.0  46.0   2.0  40.0   88441.0   7.0  2015.0   \n",
       "\n",
       "      V008  ...  S565B$3  S565B$4  S565B$5  S565B$6  S565C$1  S565C$2  \\\n",
       "0   1387.0  ...      NaN      NaN      NaN      NaN      NaN      NaN   \n",
       "1   1387.0  ...      NaN      NaN      NaN      NaN      NaN      NaN   \n",
       "2   1387.0  ...      NaN      NaN      NaN      NaN      NaN      NaN   \n",
       "3   1387.0  ...      NaN      NaN      NaN      NaN      NaN      NaN   \n",
       "4   1387.0  ...      NaN      NaN      NaN      NaN      NaN      NaN   \n",
       "5   1387.0  ...      NaN      NaN      NaN      NaN      NaN      NaN   \n",
       "6   1385.0  ...      NaN      NaN      NaN      NaN      NaN      NaN   \n",
       "7   1385.0  ...      NaN      NaN      NaN      NaN      NaN      NaN   \n",
       "8   1385.0  ...      NaN      NaN      NaN      NaN      NaN      NaN   \n",
       "9   1385.0  ...      NaN      NaN      NaN      NaN      1.0      NaN   \n",
       "10  1385.0  ...      NaN      NaN      NaN      NaN      NaN      NaN   \n",
       "11  1385.0  ...      NaN      NaN      NaN      NaN      NaN      NaN   \n",
       "12  1385.0  ...      1.0      NaN      NaN      NaN      1.0      1.0   \n",
       "13  1384.0  ...      NaN      NaN      NaN      NaN      NaN      NaN   \n",
       "14  1384.0  ...      NaN      NaN      NaN      NaN      NaN      NaN   \n",
       "15  1385.0  ...      NaN      NaN      NaN      NaN      NaN      NaN   \n",
       "16  1385.0  ...      NaN      NaN      NaN      NaN      NaN      NaN   \n",
       "17  1385.0  ...      NaN      NaN      NaN      NaN      NaN      NaN   \n",
       "18  1386.0  ...      NaN      NaN      NaN      NaN      NaN      NaN   \n",
       "19  1387.0  ...      NaN      NaN      NaN      NaN      NaN      NaN   \n",
       "20  1386.0  ...      NaN      NaN      NaN      NaN      NaN      NaN   \n",
       "21  1387.0  ...      NaN      NaN      NaN      NaN      NaN      NaN   \n",
       "22  1387.0  ...      NaN      NaN      NaN      NaN      NaN      NaN   \n",
       "23  1387.0  ...      NaN      NaN      NaN      NaN      NaN      NaN   \n",
       "24  1387.0  ...      NaN      NaN      NaN      NaN      NaN      NaN   \n",
       "25  1387.0  ...      NaN      NaN      NaN      NaN      NaN      NaN   \n",
       "26  1387.0  ...      NaN      NaN      NaN      NaN      NaN      NaN   \n",
       "27  1387.0  ...      NaN      NaN      NaN      NaN      1.0      NaN   \n",
       "28  1387.0  ...      NaN      NaN      NaN      NaN      NaN      NaN   \n",
       "29  1387.0  ...      NaN      NaN      NaN      NaN      NaN      NaN   \n",
       "30  1387.0  ...      NaN      NaN      NaN      NaN      1.0      1.0   \n",
       "31  1387.0  ...      NaN      NaN      NaN      NaN      NaN      NaN   \n",
       "32  1387.0  ...      NaN      NaN      NaN      NaN      1.0      NaN   \n",
       "33  1387.0  ...      NaN      NaN      NaN      NaN      1.0      1.0   \n",
       "34  1387.0  ...      NaN      NaN      NaN      NaN      NaN      NaN   \n",
       "35  1387.0  ...      NaN      NaN      NaN      NaN      NaN      NaN   \n",
       "36  1387.0  ...      NaN      NaN      NaN      NaN      NaN      NaN   \n",
       "37  1387.0  ...      NaN      NaN      NaN      NaN      NaN      NaN   \n",
       "38  1387.0  ...      NaN      NaN      NaN      NaN      NaN      NaN   \n",
       "39  1387.0  ...      NaN      NaN      NaN      NaN      1.0      1.0   \n",
       "40  1387.0  ...      NaN      NaN      NaN      NaN      1.0      NaN   \n",
       "41  1387.0  ...      NaN      NaN      NaN      NaN      NaN      NaN   \n",
       "42  1387.0  ...      NaN      NaN      NaN      NaN      1.0      NaN   \n",
       "43  1386.0  ...      NaN      NaN      NaN      NaN      NaN      NaN   \n",
       "44  1386.0  ...      NaN      NaN      NaN      NaN      NaN      NaN   \n",
       "45  1386.0  ...      NaN      NaN      NaN      NaN      1.0      NaN   \n",
       "46  1386.0  ...      NaN      NaN      NaN      NaN      NaN      NaN   \n",
       "47  1387.0  ...      NaN      NaN      NaN      NaN      0.0      NaN   \n",
       "48  1387.0  ...      NaN      NaN      NaN      NaN      NaN      NaN   \n",
       "49  1387.0  ...      NaN      NaN      NaN      NaN      NaN      NaN   \n",
       "\n",
       "    S565C$3  S565C$4  S565C$5  S565C$6  \n",
       "0       NaN      NaN      NaN      NaN  \n",
       "1       NaN      NaN      NaN      NaN  \n",
       "2       NaN      NaN      NaN      NaN  \n",
       "3       NaN      NaN      NaN      NaN  \n",
       "4       NaN      NaN      NaN      NaN  \n",
       "5       NaN      NaN      NaN      NaN  \n",
       "6       NaN      NaN      NaN      NaN  \n",
       "7       NaN      NaN      NaN      NaN  \n",
       "8       NaN      NaN      NaN      NaN  \n",
       "9       NaN      NaN      NaN      NaN  \n",
       "10      NaN      NaN      NaN      NaN  \n",
       "11      NaN      NaN      NaN      NaN  \n",
       "12      1.0      NaN      NaN      NaN  \n",
       "13      NaN      NaN      NaN      NaN  \n",
       "14      NaN      NaN      NaN      NaN  \n",
       "15      NaN      NaN      NaN      NaN  \n",
       "16      NaN      NaN      NaN      NaN  \n",
       "17      NaN      NaN      NaN      NaN  \n",
       "18      NaN      NaN      NaN      NaN  \n",
       "19      NaN      NaN      NaN      NaN  \n",
       "20      NaN      NaN      NaN      NaN  \n",
       "21      NaN      NaN      NaN      NaN  \n",
       "22      NaN      NaN      NaN      NaN  \n",
       "23      NaN      NaN      NaN      NaN  \n",
       "24      NaN      NaN      NaN      NaN  \n",
       "25      NaN      NaN      NaN      NaN  \n",
       "26      NaN      NaN      NaN      NaN  \n",
       "27      NaN      NaN      NaN      NaN  \n",
       "28      NaN      NaN      NaN      NaN  \n",
       "29      NaN      NaN      NaN      NaN  \n",
       "30      NaN      NaN      NaN      NaN  \n",
       "31      NaN      NaN      NaN      NaN  \n",
       "32      NaN      NaN      NaN      NaN  \n",
       "33      NaN      NaN      NaN      NaN  \n",
       "34      NaN      NaN      NaN      NaN  \n",
       "35      NaN      NaN      NaN      NaN  \n",
       "36      NaN      NaN      NaN      NaN  \n",
       "37      NaN      NaN      NaN      NaN  \n",
       "38      NaN      NaN      NaN      NaN  \n",
       "39      NaN      NaN      NaN      NaN  \n",
       "40      NaN      NaN      NaN      NaN  \n",
       "41      NaN      NaN      NaN      NaN  \n",
       "42      NaN      NaN      NaN      NaN  \n",
       "43      NaN      NaN      NaN      NaN  \n",
       "44      NaN      NaN      NaN      NaN  \n",
       "45      NaN      NaN      NaN      NaN  \n",
       "46      NaN      NaN      NaN      NaN  \n",
       "47      NaN      NaN      NaN      NaN  \n",
       "48      NaN      NaN      NaN      NaN  \n",
       "49      NaN      NaN      NaN      NaN  \n",
       "\n",
       "[50 rows x 2859 columns]"
      ],
      "text/html": "<div>\n<style scoped>\n    .dataframe tbody tr th:only-of-type {\n        vertical-align: middle;\n    }\n\n    .dataframe tbody tr th {\n        vertical-align: top;\n    }\n\n    .dataframe thead th {\n        text-align: right;\n    }\n</style>\n<table border=\"1\" class=\"dataframe\">\n  <thead>\n    <tr style=\"text-align: right;\">\n      <th></th>\n      <th>CASEID</th>\n      <th>V000</th>\n      <th>V001</th>\n      <th>V002</th>\n      <th>V003</th>\n      <th>V004</th>\n      <th>V005</th>\n      <th>V006</th>\n      <th>V007</th>\n      <th>V008</th>\n      <th>...</th>\n      <th>S565B$3</th>\n      <th>S565B$4</th>\n      <th>S565B$5</th>\n      <th>S565B$6</th>\n      <th>S565C$1</th>\n      <th>S565C$2</th>\n      <th>S565C$3</th>\n      <th>S565C$4</th>\n      <th>S565C$5</th>\n      <th>S565C$6</th>\n    </tr>\n  </thead>\n  <tbody>\n    <tr>\n      <th>0</th>\n      <td>01000117    02</td>\n      <td>IA6</td>\n      <td>10001.0</td>\n      <td>17.0</td>\n      <td>2.0</td>\n      <td>1.0</td>\n      <td>191760.0</td>\n      <td>7.0</td>\n      <td>2015.0</td>\n      <td>1387.0</td>\n      <td>...</td>\n      <td>NaN</td>\n      <td>NaN</td>\n      <td>NaN</td>\n      <td>NaN</td>\n      <td>NaN</td>\n      <td>NaN</td>\n      <td>NaN</td>\n      <td>NaN</td>\n      <td>NaN</td>\n      <td>NaN</td>\n    </tr>\n    <tr>\n      <th>1</th>\n      <td>01000130    02</td>\n      <td>IA6</td>\n      <td>10001.0</td>\n      <td>30.0</td>\n      <td>2.0</td>\n      <td>1.0</td>\n      <td>191760.0</td>\n      <td>7.0</td>\n      <td>2015.0</td>\n      <td>1387.0</td>\n      <td>...</td>\n      <td>NaN</td>\n      <td>NaN</td>\n      <td>NaN</td>\n      <td>NaN</td>\n      <td>NaN</td>\n      <td>NaN</td>\n      <td>NaN</td>\n      <td>NaN</td>\n      <td>NaN</td>\n      <td>NaN</td>\n    </tr>\n    <tr>\n      <th>2</th>\n      <td>01000152    02</td>\n      <td>IA6</td>\n      <td>10001.0</td>\n      <td>52.0</td>\n      <td>2.0</td>\n      <td>1.0</td>\n      <td>191760.0</td>\n      <td>7.0</td>\n      <td>2015.0</td>\n      <td>1387.0</td>\n      <td>...</td>\n      <td>NaN</td>\n      <td>NaN</td>\n      <td>NaN</td>\n      <td>NaN</td>\n      <td>NaN</td>\n      <td>NaN</td>\n      <td>NaN</td>\n      <td>NaN</td>\n      <td>NaN</td>\n      <td>NaN</td>\n    </tr>\n    <tr>\n      <th>3</th>\n      <td>01000157    02</td>\n      <td>IA6</td>\n      <td>10001.0</td>\n      <td>57.0</td>\n      <td>2.0</td>\n      <td>1.0</td>\n      <td>191760.0</td>\n      <td>7.0</td>\n      <td>2015.0</td>\n      <td>1387.0</td>\n      <td>...</td>\n      <td>NaN</td>\n      <td>NaN</td>\n      <td>NaN</td>\n      <td>NaN</td>\n      <td>NaN</td>\n      <td>NaN</td>\n      <td>NaN</td>\n      <td>NaN</td>\n      <td>NaN</td>\n      <td>NaN</td>\n    </tr>\n    <tr>\n      <th>4</th>\n      <td>01000172    02</td>\n      <td>IA6</td>\n      <td>10001.0</td>\n      <td>72.0</td>\n      <td>2.0</td>\n      <td>1.0</td>\n      <td>191760.0</td>\n      <td>7.0</td>\n      <td>2015.0</td>\n      <td>1387.0</td>\n      <td>...</td>\n      <td>NaN</td>\n      <td>NaN</td>\n      <td>NaN</td>\n      <td>NaN</td>\n      <td>NaN</td>\n      <td>NaN</td>\n      <td>NaN</td>\n      <td>NaN</td>\n      <td>NaN</td>\n      <td>NaN</td>\n    </tr>\n    <tr>\n      <th>5</th>\n      <td>01000196    02</td>\n      <td>IA6</td>\n      <td>10001.0</td>\n      <td>96.0</td>\n      <td>2.0</td>\n      <td>1.0</td>\n      <td>191760.0</td>\n      <td>7.0</td>\n      <td>2015.0</td>\n      <td>1387.0</td>\n      <td>...</td>\n      <td>NaN</td>\n      <td>NaN</td>\n      <td>NaN</td>\n      <td>NaN</td>\n      <td>NaN</td>\n      <td>NaN</td>\n      <td>NaN</td>\n      <td>NaN</td>\n      <td>NaN</td>\n      <td>NaN</td>\n    </tr>\n    <tr>\n      <th>6</th>\n      <td>01000506    02</td>\n      <td>IA6</td>\n      <td>10005.0</td>\n      <td>6.0</td>\n      <td>2.0</td>\n      <td>5.0</td>\n      <td>24895.0</td>\n      <td>5.0</td>\n      <td>2015.0</td>\n      <td>1385.0</td>\n      <td>...</td>\n      <td>NaN</td>\n      <td>NaN</td>\n      <td>NaN</td>\n      <td>NaN</td>\n      <td>NaN</td>\n      <td>NaN</td>\n      <td>NaN</td>\n      <td>NaN</td>\n      <td>NaN</td>\n      <td>NaN</td>\n    </tr>\n    <tr>\n      <th>7</th>\n      <td>01000534    02</td>\n      <td>IA6</td>\n      <td>10005.0</td>\n      <td>34.0</td>\n      <td>2.0</td>\n      <td>5.0</td>\n      <td>24895.0</td>\n      <td>5.0</td>\n      <td>2015.0</td>\n      <td>1385.0</td>\n      <td>...</td>\n      <td>NaN</td>\n      <td>NaN</td>\n      <td>NaN</td>\n      <td>NaN</td>\n      <td>NaN</td>\n      <td>NaN</td>\n      <td>NaN</td>\n      <td>NaN</td>\n      <td>NaN</td>\n      <td>NaN</td>\n    </tr>\n    <tr>\n      <th>8</th>\n      <td>01000535    02</td>\n      <td>IA6</td>\n      <td>10005.0</td>\n      <td>35.0</td>\n      <td>2.0</td>\n      <td>5.0</td>\n      <td>24895.0</td>\n      <td>5.0</td>\n      <td>2015.0</td>\n      <td>1385.0</td>\n      <td>...</td>\n      <td>NaN</td>\n      <td>NaN</td>\n      <td>NaN</td>\n      <td>NaN</td>\n      <td>NaN</td>\n      <td>NaN</td>\n      <td>NaN</td>\n      <td>NaN</td>\n      <td>NaN</td>\n      <td>NaN</td>\n    </tr>\n    <tr>\n      <th>9</th>\n      <td>01000558    02</td>\n      <td>IA6</td>\n      <td>10005.0</td>\n      <td>58.0</td>\n      <td>2.0</td>\n      <td>5.0</td>\n      <td>24895.0</td>\n      <td>5.0</td>\n      <td>2015.0</td>\n      <td>1385.0</td>\n      <td>...</td>\n      <td>NaN</td>\n      <td>NaN</td>\n      <td>NaN</td>\n      <td>NaN</td>\n      <td>1.0</td>\n      <td>NaN</td>\n      <td>NaN</td>\n      <td>NaN</td>\n      <td>NaN</td>\n      <td>NaN</td>\n    </tr>\n    <tr>\n      <th>10</th>\n      <td>01000561    02</td>\n      <td>IA6</td>\n      <td>10005.0</td>\n      <td>61.0</td>\n      <td>2.0</td>\n      <td>5.0</td>\n      <td>24895.0</td>\n      <td>5.0</td>\n      <td>2015.0</td>\n      <td>1385.0</td>\n      <td>...</td>\n      <td>NaN</td>\n      <td>NaN</td>\n      <td>NaN</td>\n      <td>NaN</td>\n      <td>NaN</td>\n      <td>NaN</td>\n      <td>NaN</td>\n      <td>NaN</td>\n      <td>NaN</td>\n      <td>NaN</td>\n    </tr>\n    <tr>\n      <th>11</th>\n      <td>01000576    02</td>\n      <td>IA6</td>\n      <td>10005.0</td>\n      <td>76.0</td>\n      <td>2.0</td>\n      <td>5.0</td>\n      <td>24895.0</td>\n      <td>5.0</td>\n      <td>2015.0</td>\n      <td>1385.0</td>\n      <td>...</td>\n      <td>NaN</td>\n      <td>NaN</td>\n      <td>NaN</td>\n      <td>NaN</td>\n      <td>NaN</td>\n      <td>NaN</td>\n      <td>NaN</td>\n      <td>NaN</td>\n      <td>NaN</td>\n      <td>NaN</td>\n    </tr>\n    <tr>\n      <th>12</th>\n      <td>01000705    04</td>\n      <td>IA6</td>\n      <td>10007.0</td>\n      <td>5.0</td>\n      <td>4.0</td>\n      <td>7.0</td>\n      <td>1204.0</td>\n      <td>5.0</td>\n      <td>2015.0</td>\n      <td>1385.0</td>\n      <td>...</td>\n      <td>1.0</td>\n      <td>NaN</td>\n      <td>NaN</td>\n      <td>NaN</td>\n      <td>1.0</td>\n      <td>1.0</td>\n      <td>1.0</td>\n      <td>NaN</td>\n      <td>NaN</td>\n      <td>NaN</td>\n    </tr>\n    <tr>\n      <th>13</th>\n      <td>01000709    02</td>\n      <td>IA6</td>\n      <td>10007.0</td>\n      <td>9.0</td>\n      <td>2.0</td>\n      <td>7.0</td>\n      <td>1204.0</td>\n      <td>4.0</td>\n      <td>2015.0</td>\n      <td>1384.0</td>\n      <td>...</td>\n      <td>NaN</td>\n      <td>NaN</td>\n      <td>NaN</td>\n      <td>NaN</td>\n      <td>NaN</td>\n      <td>NaN</td>\n      <td>NaN</td>\n      <td>NaN</td>\n      <td>NaN</td>\n      <td>NaN</td>\n    </tr>\n    <tr>\n      <th>14</th>\n      <td>01000743    02</td>\n      <td>IA6</td>\n      <td>10007.0</td>\n      <td>43.0</td>\n      <td>2.0</td>\n      <td>7.0</td>\n      <td>1204.0</td>\n      <td>4.0</td>\n      <td>2015.0</td>\n      <td>1384.0</td>\n      <td>...</td>\n      <td>NaN</td>\n      <td>NaN</td>\n      <td>NaN</td>\n      <td>NaN</td>\n      <td>NaN</td>\n      <td>NaN</td>\n      <td>NaN</td>\n      <td>NaN</td>\n      <td>NaN</td>\n      <td>NaN</td>\n    </tr>\n    <tr>\n      <th>15</th>\n      <td>01000752    02</td>\n      <td>IA6</td>\n      <td>10007.0</td>\n      <td>52.0</td>\n      <td>2.0</td>\n      <td>7.0</td>\n      <td>1204.0</td>\n      <td>5.0</td>\n      <td>2015.0</td>\n      <td>1385.0</td>\n      <td>...</td>\n      <td>NaN</td>\n      <td>NaN</td>\n      <td>NaN</td>\n      <td>NaN</td>\n      <td>NaN</td>\n      <td>NaN</td>\n      <td>NaN</td>\n      <td>NaN</td>\n      <td>NaN</td>\n      <td>NaN</td>\n    </tr>\n    <tr>\n      <th>16</th>\n      <td>01000755    02</td>\n      <td>IA6</td>\n      <td>10007.0</td>\n      <td>55.0</td>\n      <td>2.0</td>\n      <td>7.0</td>\n      <td>1204.0</td>\n      <td>5.0</td>\n      <td>2015.0</td>\n      <td>1385.0</td>\n      <td>...</td>\n      <td>NaN</td>\n      <td>NaN</td>\n      <td>NaN</td>\n      <td>NaN</td>\n      <td>NaN</td>\n      <td>NaN</td>\n      <td>NaN</td>\n      <td>NaN</td>\n      <td>NaN</td>\n      <td>NaN</td>\n    </tr>\n    <tr>\n      <th>17</th>\n      <td>01000789    02</td>\n      <td>IA6</td>\n      <td>10007.0</td>\n      <td>89.0</td>\n      <td>2.0</td>\n      <td>7.0</td>\n      <td>1204.0</td>\n      <td>5.0</td>\n      <td>2015.0</td>\n      <td>1385.0</td>\n      <td>...</td>\n      <td>NaN</td>\n      <td>NaN</td>\n      <td>NaN</td>\n      <td>NaN</td>\n      <td>NaN</td>\n      <td>NaN</td>\n      <td>NaN</td>\n      <td>NaN</td>\n      <td>NaN</td>\n      <td>NaN</td>\n    </tr>\n    <tr>\n      <th>18</th>\n      <td>01001950    04</td>\n      <td>IA6</td>\n      <td>10019.0</td>\n      <td>50.0</td>\n      <td>4.0</td>\n      <td>19.0</td>\n      <td>66093.0</td>\n      <td>6.0</td>\n      <td>2015.0</td>\n      <td>1386.0</td>\n      <td>...</td>\n      <td>NaN</td>\n      <td>NaN</td>\n      <td>NaN</td>\n      <td>NaN</td>\n      <td>NaN</td>\n      <td>NaN</td>\n      <td>NaN</td>\n      <td>NaN</td>\n      <td>NaN</td>\n      <td>NaN</td>\n    </tr>\n    <tr>\n      <th>19</th>\n      <td>01001962    03</td>\n      <td>IA6</td>\n      <td>10019.0</td>\n      <td>62.0</td>\n      <td>3.0</td>\n      <td>19.0</td>\n      <td>66093.0</td>\n      <td>7.0</td>\n      <td>2015.0</td>\n      <td>1387.0</td>\n      <td>...</td>\n      <td>NaN</td>\n      <td>NaN</td>\n      <td>NaN</td>\n      <td>NaN</td>\n      <td>NaN</td>\n      <td>NaN</td>\n      <td>NaN</td>\n      <td>NaN</td>\n      <td>NaN</td>\n      <td>NaN</td>\n    </tr>\n    <tr>\n      <th>20</th>\n      <td>01001983    02</td>\n      <td>IA6</td>\n      <td>10019.0</td>\n      <td>83.0</td>\n      <td>2.0</td>\n      <td>19.0</td>\n      <td>66093.0</td>\n      <td>6.0</td>\n      <td>2015.0</td>\n      <td>1386.0</td>\n      <td>...</td>\n      <td>NaN</td>\n      <td>NaN</td>\n      <td>NaN</td>\n      <td>NaN</td>\n      <td>NaN</td>\n      <td>NaN</td>\n      <td>NaN</td>\n      <td>NaN</td>\n      <td>NaN</td>\n      <td>NaN</td>\n    </tr>\n    <tr>\n      <th>21</th>\n      <td>01001984    02</td>\n      <td>IA6</td>\n      <td>10019.0</td>\n      <td>84.0</td>\n      <td>2.0</td>\n      <td>19.0</td>\n      <td>66093.0</td>\n      <td>7.0</td>\n      <td>2015.0</td>\n      <td>1387.0</td>\n      <td>...</td>\n      <td>NaN</td>\n      <td>NaN</td>\n      <td>NaN</td>\n      <td>NaN</td>\n      <td>NaN</td>\n      <td>NaN</td>\n      <td>NaN</td>\n      <td>NaN</td>\n      <td>NaN</td>\n      <td>NaN</td>\n    </tr>\n    <tr>\n      <th>22</th>\n      <td>01002105    02</td>\n      <td>IA6</td>\n      <td>10021.0</td>\n      <td>5.0</td>\n      <td>2.0</td>\n      <td>21.0</td>\n      <td>19582.0</td>\n      <td>7.0</td>\n      <td>2015.0</td>\n      <td>1387.0</td>\n      <td>...</td>\n      <td>NaN</td>\n      <td>NaN</td>\n      <td>NaN</td>\n      <td>NaN</td>\n      <td>NaN</td>\n      <td>NaN</td>\n      <td>NaN</td>\n      <td>NaN</td>\n      <td>NaN</td>\n      <td>NaN</td>\n    </tr>\n    <tr>\n      <th>23</th>\n      <td>01002106    02</td>\n      <td>IA6</td>\n      <td>10021.0</td>\n      <td>6.0</td>\n      <td>2.0</td>\n      <td>21.0</td>\n      <td>19582.0</td>\n      <td>7.0</td>\n      <td>2015.0</td>\n      <td>1387.0</td>\n      <td>...</td>\n      <td>NaN</td>\n      <td>NaN</td>\n      <td>NaN</td>\n      <td>NaN</td>\n      <td>NaN</td>\n      <td>NaN</td>\n      <td>NaN</td>\n      <td>NaN</td>\n      <td>NaN</td>\n      <td>NaN</td>\n    </tr>\n    <tr>\n      <th>24</th>\n      <td>01002111    03</td>\n      <td>IA6</td>\n      <td>10021.0</td>\n      <td>11.0</td>\n      <td>3.0</td>\n      <td>21.0</td>\n      <td>19582.0</td>\n      <td>7.0</td>\n      <td>2015.0</td>\n      <td>1387.0</td>\n      <td>...</td>\n      <td>NaN</td>\n      <td>NaN</td>\n      <td>NaN</td>\n      <td>NaN</td>\n      <td>NaN</td>\n      <td>NaN</td>\n      <td>NaN</td>\n      <td>NaN</td>\n      <td>NaN</td>\n      <td>NaN</td>\n    </tr>\n    <tr>\n      <th>25</th>\n      <td>01002111    06</td>\n      <td>IA6</td>\n      <td>10021.0</td>\n      <td>11.0</td>\n      <td>6.0</td>\n      <td>21.0</td>\n      <td>19582.0</td>\n      <td>7.0</td>\n      <td>2015.0</td>\n      <td>1387.0</td>\n      <td>...</td>\n      <td>NaN</td>\n      <td>NaN</td>\n      <td>NaN</td>\n      <td>NaN</td>\n      <td>NaN</td>\n      <td>NaN</td>\n      <td>NaN</td>\n      <td>NaN</td>\n      <td>NaN</td>\n      <td>NaN</td>\n    </tr>\n    <tr>\n      <th>26</th>\n      <td>01002120    06</td>\n      <td>IA6</td>\n      <td>10021.0</td>\n      <td>20.0</td>\n      <td>6.0</td>\n      <td>21.0</td>\n      <td>19582.0</td>\n      <td>7.0</td>\n      <td>2015.0</td>\n      <td>1387.0</td>\n      <td>...</td>\n      <td>NaN</td>\n      <td>NaN</td>\n      <td>NaN</td>\n      <td>NaN</td>\n      <td>NaN</td>\n      <td>NaN</td>\n      <td>NaN</td>\n      <td>NaN</td>\n      <td>NaN</td>\n      <td>NaN</td>\n    </tr>\n    <tr>\n      <th>27</th>\n      <td>01002142    02</td>\n      <td>IA6</td>\n      <td>10021.0</td>\n      <td>42.0</td>\n      <td>2.0</td>\n      <td>21.0</td>\n      <td>19582.0</td>\n      <td>7.0</td>\n      <td>2015.0</td>\n      <td>1387.0</td>\n      <td>...</td>\n      <td>NaN</td>\n      <td>NaN</td>\n      <td>NaN</td>\n      <td>NaN</td>\n      <td>1.0</td>\n      <td>NaN</td>\n      <td>NaN</td>\n      <td>NaN</td>\n      <td>NaN</td>\n      <td>NaN</td>\n    </tr>\n    <tr>\n      <th>28</th>\n      <td>01002155    02</td>\n      <td>IA6</td>\n      <td>10021.0</td>\n      <td>55.0</td>\n      <td>2.0</td>\n      <td>21.0</td>\n      <td>19582.0</td>\n      <td>7.0</td>\n      <td>2015.0</td>\n      <td>1387.0</td>\n      <td>...</td>\n      <td>NaN</td>\n      <td>NaN</td>\n      <td>NaN</td>\n      <td>NaN</td>\n      <td>NaN</td>\n      <td>NaN</td>\n      <td>NaN</td>\n      <td>NaN</td>\n      <td>NaN</td>\n      <td>NaN</td>\n    </tr>\n    <tr>\n      <th>29</th>\n      <td>01002180    02</td>\n      <td>IA6</td>\n      <td>10021.0</td>\n      <td>80.0</td>\n      <td>2.0</td>\n      <td>21.0</td>\n      <td>19582.0</td>\n      <td>7.0</td>\n      <td>2015.0</td>\n      <td>1387.0</td>\n      <td>...</td>\n      <td>NaN</td>\n      <td>NaN</td>\n      <td>NaN</td>\n      <td>NaN</td>\n      <td>NaN</td>\n      <td>NaN</td>\n      <td>NaN</td>\n      <td>NaN</td>\n      <td>NaN</td>\n      <td>NaN</td>\n    </tr>\n    <tr>\n      <th>30</th>\n      <td>01002186    02</td>\n      <td>IA6</td>\n      <td>10021.0</td>\n      <td>86.0</td>\n      <td>2.0</td>\n      <td>21.0</td>\n      <td>19582.0</td>\n      <td>7.0</td>\n      <td>2015.0</td>\n      <td>1387.0</td>\n      <td>...</td>\n      <td>NaN</td>\n      <td>NaN</td>\n      <td>NaN</td>\n      <td>NaN</td>\n      <td>1.0</td>\n      <td>1.0</td>\n      <td>NaN</td>\n      <td>NaN</td>\n      <td>NaN</td>\n      <td>NaN</td>\n    </tr>\n    <tr>\n      <th>31</th>\n      <td>01002192    02</td>\n      <td>IA6</td>\n      <td>10021.0</td>\n      <td>92.0</td>\n      <td>2.0</td>\n      <td>21.0</td>\n      <td>19582.0</td>\n      <td>7.0</td>\n      <td>2015.0</td>\n      <td>1387.0</td>\n      <td>...</td>\n      <td>NaN</td>\n      <td>NaN</td>\n      <td>NaN</td>\n      <td>NaN</td>\n      <td>NaN</td>\n      <td>NaN</td>\n      <td>NaN</td>\n      <td>NaN</td>\n      <td>NaN</td>\n      <td>NaN</td>\n    </tr>\n    <tr>\n      <th>32</th>\n      <td>01002907    02</td>\n      <td>IA6</td>\n      <td>10029.0</td>\n      <td>7.0</td>\n      <td>2.0</td>\n      <td>29.0</td>\n      <td>17331.0</td>\n      <td>7.0</td>\n      <td>2015.0</td>\n      <td>1387.0</td>\n      <td>...</td>\n      <td>NaN</td>\n      <td>NaN</td>\n      <td>NaN</td>\n      <td>NaN</td>\n      <td>1.0</td>\n      <td>NaN</td>\n      <td>NaN</td>\n      <td>NaN</td>\n      <td>NaN</td>\n      <td>NaN</td>\n    </tr>\n    <tr>\n      <th>33</th>\n      <td>01002907    06</td>\n      <td>IA6</td>\n      <td>10029.0</td>\n      <td>7.0</td>\n      <td>6.0</td>\n      <td>29.0</td>\n      <td>17331.0</td>\n      <td>7.0</td>\n      <td>2015.0</td>\n      <td>1387.0</td>\n      <td>...</td>\n      <td>NaN</td>\n      <td>NaN</td>\n      <td>NaN</td>\n      <td>NaN</td>\n      <td>1.0</td>\n      <td>1.0</td>\n      <td>NaN</td>\n      <td>NaN</td>\n      <td>NaN</td>\n      <td>NaN</td>\n    </tr>\n    <tr>\n      <th>34</th>\n      <td>01002918    02</td>\n      <td>IA6</td>\n      <td>10029.0</td>\n      <td>18.0</td>\n      <td>2.0</td>\n      <td>29.0</td>\n      <td>17331.0</td>\n      <td>7.0</td>\n      <td>2015.0</td>\n      <td>1387.0</td>\n      <td>...</td>\n      <td>NaN</td>\n      <td>NaN</td>\n      <td>NaN</td>\n      <td>NaN</td>\n      <td>NaN</td>\n      <td>NaN</td>\n      <td>NaN</td>\n      <td>NaN</td>\n      <td>NaN</td>\n      <td>NaN</td>\n    </tr>\n    <tr>\n      <th>35</th>\n      <td>01002926    02</td>\n      <td>IA6</td>\n      <td>10029.0</td>\n      <td>26.0</td>\n      <td>2.0</td>\n      <td>29.0</td>\n      <td>17331.0</td>\n      <td>7.0</td>\n      <td>2015.0</td>\n      <td>1387.0</td>\n      <td>...</td>\n      <td>NaN</td>\n      <td>NaN</td>\n      <td>NaN</td>\n      <td>NaN</td>\n      <td>NaN</td>\n      <td>NaN</td>\n      <td>NaN</td>\n      <td>NaN</td>\n      <td>NaN</td>\n      <td>NaN</td>\n    </tr>\n    <tr>\n      <th>36</th>\n      <td>01002960    03</td>\n      <td>IA6</td>\n      <td>10029.0</td>\n      <td>60.0</td>\n      <td>3.0</td>\n      <td>29.0</td>\n      <td>17331.0</td>\n      <td>7.0</td>\n      <td>2015.0</td>\n      <td>1387.0</td>\n      <td>...</td>\n      <td>NaN</td>\n      <td>NaN</td>\n      <td>NaN</td>\n      <td>NaN</td>\n      <td>NaN</td>\n      <td>NaN</td>\n      <td>NaN</td>\n      <td>NaN</td>\n      <td>NaN</td>\n      <td>NaN</td>\n    </tr>\n    <tr>\n      <th>37</th>\n      <td>01002960    07</td>\n      <td>IA6</td>\n      <td>10029.0</td>\n      <td>60.0</td>\n      <td>7.0</td>\n      <td>29.0</td>\n      <td>17331.0</td>\n      <td>7.0</td>\n      <td>2015.0</td>\n      <td>1387.0</td>\n      <td>...</td>\n      <td>NaN</td>\n      <td>NaN</td>\n      <td>NaN</td>\n      <td>NaN</td>\n      <td>NaN</td>\n      <td>NaN</td>\n      <td>NaN</td>\n      <td>NaN</td>\n      <td>NaN</td>\n      <td>NaN</td>\n    </tr>\n    <tr>\n      <th>38</th>\n      <td>01002967    10</td>\n      <td>IA6</td>\n      <td>10029.0</td>\n      <td>67.0</td>\n      <td>10.0</td>\n      <td>29.0</td>\n      <td>17331.0</td>\n      <td>7.0</td>\n      <td>2015.0</td>\n      <td>1387.0</td>\n      <td>...</td>\n      <td>NaN</td>\n      <td>NaN</td>\n      <td>NaN</td>\n      <td>NaN</td>\n      <td>NaN</td>\n      <td>NaN</td>\n      <td>NaN</td>\n      <td>NaN</td>\n      <td>NaN</td>\n      <td>NaN</td>\n    </tr>\n    <tr>\n      <th>39</th>\n      <td>01002971    05</td>\n      <td>IA6</td>\n      <td>10029.0</td>\n      <td>71.0</td>\n      <td>5.0</td>\n      <td>29.0</td>\n      <td>17331.0</td>\n      <td>7.0</td>\n      <td>2015.0</td>\n      <td>1387.0</td>\n      <td>...</td>\n      <td>NaN</td>\n      <td>NaN</td>\n      <td>NaN</td>\n      <td>NaN</td>\n      <td>1.0</td>\n      <td>1.0</td>\n      <td>NaN</td>\n      <td>NaN</td>\n      <td>NaN</td>\n      <td>NaN</td>\n    </tr>\n    <tr>\n      <th>40</th>\n      <td>01002971    09</td>\n      <td>IA6</td>\n      <td>10029.0</td>\n      <td>71.0</td>\n      <td>9.0</td>\n      <td>29.0</td>\n      <td>17331.0</td>\n      <td>7.0</td>\n      <td>2015.0</td>\n      <td>1387.0</td>\n      <td>...</td>\n      <td>NaN</td>\n      <td>NaN</td>\n      <td>NaN</td>\n      <td>NaN</td>\n      <td>1.0</td>\n      <td>NaN</td>\n      <td>NaN</td>\n      <td>NaN</td>\n      <td>NaN</td>\n      <td>NaN</td>\n    </tr>\n    <tr>\n      <th>41</th>\n      <td>01002990    02</td>\n      <td>IA6</td>\n      <td>10029.0</td>\n      <td>90.0</td>\n      <td>2.0</td>\n      <td>29.0</td>\n      <td>17331.0</td>\n      <td>7.0</td>\n      <td>2015.0</td>\n      <td>1387.0</td>\n      <td>...</td>\n      <td>NaN</td>\n      <td>NaN</td>\n      <td>NaN</td>\n      <td>NaN</td>\n      <td>NaN</td>\n      <td>NaN</td>\n      <td>NaN</td>\n      <td>NaN</td>\n      <td>NaN</td>\n      <td>NaN</td>\n    </tr>\n    <tr>\n      <th>42</th>\n      <td>01002990    04</td>\n      <td>IA6</td>\n      <td>10029.0</td>\n      <td>90.0</td>\n      <td>4.0</td>\n      <td>29.0</td>\n      <td>17331.0</td>\n      <td>7.0</td>\n      <td>2015.0</td>\n      <td>1387.0</td>\n      <td>...</td>\n      <td>NaN</td>\n      <td>NaN</td>\n      <td>NaN</td>\n      <td>NaN</td>\n      <td>1.0</td>\n      <td>NaN</td>\n      <td>NaN</td>\n      <td>NaN</td>\n      <td>NaN</td>\n      <td>NaN</td>\n    </tr>\n    <tr>\n      <th>43</th>\n      <td>01003341    04</td>\n      <td>IA6</td>\n      <td>10033.0</td>\n      <td>41.0</td>\n      <td>4.0</td>\n      <td>33.0</td>\n      <td>73050.0</td>\n      <td>6.0</td>\n      <td>2015.0</td>\n      <td>1386.0</td>\n      <td>...</td>\n      <td>NaN</td>\n      <td>NaN</td>\n      <td>NaN</td>\n      <td>NaN</td>\n      <td>NaN</td>\n      <td>NaN</td>\n      <td>NaN</td>\n      <td>NaN</td>\n      <td>NaN</td>\n      <td>NaN</td>\n    </tr>\n    <tr>\n      <th>44</th>\n      <td>01003355    02</td>\n      <td>IA6</td>\n      <td>10033.0</td>\n      <td>55.0</td>\n      <td>2.0</td>\n      <td>33.0</td>\n      <td>73050.0</td>\n      <td>6.0</td>\n      <td>2015.0</td>\n      <td>1386.0</td>\n      <td>...</td>\n      <td>NaN</td>\n      <td>NaN</td>\n      <td>NaN</td>\n      <td>NaN</td>\n      <td>NaN</td>\n      <td>NaN</td>\n      <td>NaN</td>\n      <td>NaN</td>\n      <td>NaN</td>\n      <td>NaN</td>\n    </tr>\n    <tr>\n      <th>45</th>\n      <td>01003384    02</td>\n      <td>IA6</td>\n      <td>10033.0</td>\n      <td>84.0</td>\n      <td>2.0</td>\n      <td>33.0</td>\n      <td>73050.0</td>\n      <td>6.0</td>\n      <td>2015.0</td>\n      <td>1386.0</td>\n      <td>...</td>\n      <td>NaN</td>\n      <td>NaN</td>\n      <td>NaN</td>\n      <td>NaN</td>\n      <td>1.0</td>\n      <td>NaN</td>\n      <td>NaN</td>\n      <td>NaN</td>\n      <td>NaN</td>\n      <td>NaN</td>\n    </tr>\n    <tr>\n      <th>46</th>\n      <td>01003389    02</td>\n      <td>IA6</td>\n      <td>10033.0</td>\n      <td>89.0</td>\n      <td>2.0</td>\n      <td>33.0</td>\n      <td>73050.0</td>\n      <td>6.0</td>\n      <td>2015.0</td>\n      <td>1386.0</td>\n      <td>...</td>\n      <td>NaN</td>\n      <td>NaN</td>\n      <td>NaN</td>\n      <td>NaN</td>\n      <td>NaN</td>\n      <td>NaN</td>\n      <td>NaN</td>\n      <td>NaN</td>\n      <td>NaN</td>\n      <td>NaN</td>\n    </tr>\n    <tr>\n      <th>47</th>\n      <td>01004008    04</td>\n      <td>IA6</td>\n      <td>10040.0</td>\n      <td>8.0</td>\n      <td>4.0</td>\n      <td>40.0</td>\n      <td>88441.0</td>\n      <td>7.0</td>\n      <td>2015.0</td>\n      <td>1387.0</td>\n      <td>...</td>\n      <td>NaN</td>\n      <td>NaN</td>\n      <td>NaN</td>\n      <td>NaN</td>\n      <td>0.0</td>\n      <td>NaN</td>\n      <td>NaN</td>\n      <td>NaN</td>\n      <td>NaN</td>\n      <td>NaN</td>\n    </tr>\n    <tr>\n      <th>48</th>\n      <td>01004018    04</td>\n      <td>IA6</td>\n      <td>10040.0</td>\n      <td>18.0</td>\n      <td>4.0</td>\n      <td>40.0</td>\n      <td>88441.0</td>\n      <td>7.0</td>\n      <td>2015.0</td>\n      <td>1387.0</td>\n      <td>...</td>\n      <td>NaN</td>\n      <td>NaN</td>\n      <td>NaN</td>\n      <td>NaN</td>\n      <td>NaN</td>\n      <td>NaN</td>\n      <td>NaN</td>\n      <td>NaN</td>\n      <td>NaN</td>\n      <td>NaN</td>\n    </tr>\n    <tr>\n      <th>49</th>\n      <td>01004046    02</td>\n      <td>IA6</td>\n      <td>10040.0</td>\n      <td>46.0</td>\n      <td>2.0</td>\n      <td>40.0</td>\n      <td>88441.0</td>\n      <td>7.0</td>\n      <td>2015.0</td>\n      <td>1387.0</td>\n      <td>...</td>\n      <td>NaN</td>\n      <td>NaN</td>\n      <td>NaN</td>\n      <td>NaN</td>\n      <td>NaN</td>\n      <td>NaN</td>\n      <td>NaN</td>\n      <td>NaN</td>\n      <td>NaN</td>\n      <td>NaN</td>\n    </tr>\n  </tbody>\n</table>\n<p>50 rows × 2859 columns</p>\n</div>"
     },
     "metadata": {},
     "execution_count": 9
    }
   ],
   "source": [
    "import numpy as np \n",
    "import pandas as pd\n",
    "import pyreadstat\n",
    "\n",
    "df , meta = pyreadstat.read_sav('/users/quasar/downloads/Machine_Learning_Health_care/DHS_NFHS_dataset_original/IACR74SV/IACR74FL.SAV')\n",
    "\n",
    "df.head(50)"
   ]
  },
  {
   "cell_type": "code",
   "execution_count": 10,
   "metadata": {},
   "outputs": [
    {
     "output_type": "error",
     "ename": "KeyboardInterrupt",
     "evalue": "",
     "traceback": [
      "\u001b[0;31m---------------------------------------------------------------------------\u001b[0m",
      "\u001b[0;31mKeyboardInterrupt\u001b[0m                         Traceback (most recent call last)",
      "\u001b[0;32m<ipython-input-10-67e303a2d29d>\u001b[0m in \u001b[0;36m<module>\u001b[0;34m\u001b[0m\n\u001b[1;32m      1\u001b[0m \u001b[0;32mimport\u001b[0m \u001b[0mpandas\u001b[0m \u001b[0;32mas\u001b[0m \u001b[0mpd\u001b[0m\u001b[0;34m\u001b[0m\u001b[0;34m\u001b[0m\u001b[0m\n\u001b[1;32m      2\u001b[0m \u001b[0;34m\u001b[0m\u001b[0m\n\u001b[0;32m----> 3\u001b[0;31m \u001b[0mdf\u001b[0m \u001b[0;34m=\u001b[0m \u001b[0mpd\u001b[0m\u001b[0;34m.\u001b[0m\u001b[0mread_stata\u001b[0m\u001b[0;34m(\u001b[0m\u001b[0;34m'/users/quasar/downloads/Machine_Learning_Health_care/DHS_NFHS_dataset_original/IAIR74DT/IAIR74FL.DTA'\u001b[0m\u001b[0;34m,\u001b[0m \u001b[0mconvert_categoricals\u001b[0m \u001b[0;34m=\u001b[0m \u001b[0;32mFalse\u001b[0m \u001b[0;34m)\u001b[0m\u001b[0;34m\u001b[0m\u001b[0;34m\u001b[0m\u001b[0m\n\u001b[0m\u001b[1;32m      4\u001b[0m \u001b[0;34m\u001b[0m\u001b[0m\n\u001b[1;32m      5\u001b[0m \u001b[0mdf\u001b[0m\u001b[0;34m\u001b[0m\u001b[0;34m\u001b[0m\u001b[0m\n",
      "\u001b[0;32m~/.conda/envs/untitled1/lib/python3.7/site-packages/pandas/io/stata.py\u001b[0m in \u001b[0;36mread_stata\u001b[0;34m(filepath_or_buffer, convert_dates, convert_categoricals, index_col, convert_missing, preserve_dtypes, columns, order_categoricals, chunksize, iterator, storage_options)\u001b[0m\n\u001b[1;32m   1913\u001b[0m \u001b[0;34m\u001b[0m\u001b[0m\n\u001b[1;32m   1914\u001b[0m     \u001b[0;32mtry\u001b[0m\u001b[0;34m:\u001b[0m\u001b[0;34m\u001b[0m\u001b[0;34m\u001b[0m\u001b[0m\n\u001b[0;32m-> 1915\u001b[0;31m         \u001b[0mdata\u001b[0m \u001b[0;34m=\u001b[0m \u001b[0mreader\u001b[0m\u001b[0;34m.\u001b[0m\u001b[0mread\u001b[0m\u001b[0;34m(\u001b[0m\u001b[0;34m)\u001b[0m\u001b[0;34m\u001b[0m\u001b[0;34m\u001b[0m\u001b[0m\n\u001b[0m\u001b[1;32m   1916\u001b[0m     \u001b[0;32mfinally\u001b[0m\u001b[0;34m:\u001b[0m\u001b[0;34m\u001b[0m\u001b[0;34m\u001b[0m\u001b[0m\n\u001b[1;32m   1917\u001b[0m         \u001b[0mreader\u001b[0m\u001b[0;34m.\u001b[0m\u001b[0mclose\u001b[0m\u001b[0;34m(\u001b[0m\u001b[0;34m)\u001b[0m\u001b[0;34m\u001b[0m\u001b[0;34m\u001b[0m\u001b[0m\n",
      "\u001b[0;32m~/.conda/envs/untitled1/lib/python3.7/site-packages/pandas/io/stata.py\u001b[0m in \u001b[0;36mread\u001b[0;34m(self, nrows, convert_dates, convert_categoricals, index_col, convert_missing, preserve_dtypes, columns, order_categoricals)\u001b[0m\n\u001b[1;32m   1645\u001b[0m         \u001b[0;32mdel\u001b[0m \u001b[0mdata_formatted\u001b[0m\u001b[0;34m\u001b[0m\u001b[0;34m\u001b[0m\u001b[0m\n\u001b[1;32m   1646\u001b[0m \u001b[0;34m\u001b[0m\u001b[0m\n\u001b[0;32m-> 1647\u001b[0;31m         \u001b[0mdata\u001b[0m \u001b[0;34m=\u001b[0m \u001b[0mself\u001b[0m\u001b[0;34m.\u001b[0m\u001b[0m_do_convert_missing\u001b[0m\u001b[0;34m(\u001b[0m\u001b[0mdata\u001b[0m\u001b[0;34m,\u001b[0m \u001b[0mconvert_missing\u001b[0m\u001b[0;34m)\u001b[0m\u001b[0;34m\u001b[0m\u001b[0;34m\u001b[0m\u001b[0m\n\u001b[0m\u001b[1;32m   1648\u001b[0m \u001b[0;34m\u001b[0m\u001b[0m\n\u001b[1;32m   1649\u001b[0m         \u001b[0;32mif\u001b[0m \u001b[0mconvert_dates\u001b[0m\u001b[0;34m:\u001b[0m\u001b[0;34m\u001b[0m\u001b[0;34m\u001b[0m\u001b[0m\n",
      "\u001b[0;32m~/.conda/envs/untitled1/lib/python3.7/site-packages/pandas/io/stata.py\u001b[0m in \u001b[0;36m_do_convert_missing\u001b[0;34m(self, data, convert_missing)\u001b[0m\n\u001b[1;32m   1722\u001b[0m                     \u001b[0mdtype\u001b[0m \u001b[0;34m=\u001b[0m \u001b[0mnp\u001b[0m\u001b[0;34m.\u001b[0m\u001b[0mfloat64\u001b[0m\u001b[0;34m\u001b[0m\u001b[0;34m\u001b[0m\u001b[0m\n\u001b[1;32m   1723\u001b[0m                 \u001b[0mreplacement\u001b[0m \u001b[0;34m=\u001b[0m \u001b[0mSeries\u001b[0m\u001b[0;34m(\u001b[0m\u001b[0mseries\u001b[0m\u001b[0;34m,\u001b[0m \u001b[0mdtype\u001b[0m\u001b[0;34m=\u001b[0m\u001b[0mdtype\u001b[0m\u001b[0;34m)\u001b[0m\u001b[0;34m\u001b[0m\u001b[0;34m\u001b[0m\u001b[0m\n\u001b[0;32m-> 1724\u001b[0;31m                 \u001b[0mreplacement\u001b[0m\u001b[0;34m[\u001b[0m\u001b[0mmissing\u001b[0m\u001b[0;34m]\u001b[0m \u001b[0;34m=\u001b[0m \u001b[0mnp\u001b[0m\u001b[0;34m.\u001b[0m\u001b[0mnan\u001b[0m\u001b[0;34m\u001b[0m\u001b[0;34m\u001b[0m\u001b[0m\n\u001b[0m\u001b[1;32m   1725\u001b[0m             \u001b[0mreplacements\u001b[0m\u001b[0;34m[\u001b[0m\u001b[0mcolname\u001b[0m\u001b[0;34m]\u001b[0m \u001b[0;34m=\u001b[0m \u001b[0mreplacement\u001b[0m\u001b[0;34m\u001b[0m\u001b[0;34m\u001b[0m\u001b[0m\n\u001b[1;32m   1726\u001b[0m         \u001b[0;32mif\u001b[0m \u001b[0mreplacements\u001b[0m\u001b[0;34m:\u001b[0m\u001b[0;34m\u001b[0m\u001b[0;34m\u001b[0m\u001b[0m\n",
      "\u001b[0;32m~/.conda/envs/untitled1/lib/python3.7/site-packages/pandas/core/series.py\u001b[0m in \u001b[0;36m__setitem__\u001b[0;34m(self, key, value)\u001b[0m\n\u001b[1;32m    941\u001b[0m \u001b[0;34m\u001b[0m\u001b[0m\n\u001b[1;32m    942\u001b[0m         \u001b[0;32mtry\u001b[0m\u001b[0;34m:\u001b[0m\u001b[0;34m\u001b[0m\u001b[0;34m\u001b[0m\u001b[0m\n\u001b[0;32m--> 943\u001b[0;31m             \u001b[0mself\u001b[0m\u001b[0;34m.\u001b[0m\u001b[0m_set_with_engine\u001b[0m\u001b[0;34m(\u001b[0m\u001b[0mkey\u001b[0m\u001b[0;34m,\u001b[0m \u001b[0mvalue\u001b[0m\u001b[0;34m)\u001b[0m\u001b[0;34m\u001b[0m\u001b[0;34m\u001b[0m\u001b[0m\n\u001b[0m\u001b[1;32m    944\u001b[0m         \u001b[0;32mexcept\u001b[0m \u001b[0;34m(\u001b[0m\u001b[0mKeyError\u001b[0m\u001b[0;34m,\u001b[0m \u001b[0mValueError\u001b[0m\u001b[0;34m)\u001b[0m\u001b[0;34m:\u001b[0m\u001b[0;34m\u001b[0m\u001b[0;34m\u001b[0m\u001b[0m\n\u001b[1;32m    945\u001b[0m             \u001b[0mvalues\u001b[0m \u001b[0;34m=\u001b[0m \u001b[0mself\u001b[0m\u001b[0;34m.\u001b[0m\u001b[0m_values\u001b[0m\u001b[0;34m\u001b[0m\u001b[0;34m\u001b[0m\u001b[0m\n",
      "\u001b[0;32m~/.conda/envs/untitled1/lib/python3.7/site-packages/pandas/core/series.py\u001b[0m in \u001b[0;36m_set_with_engine\u001b[0;34m(self, key, value)\u001b[0m\n\u001b[1;32m    974\u001b[0m     \u001b[0;32mdef\u001b[0m \u001b[0m_set_with_engine\u001b[0m\u001b[0;34m(\u001b[0m\u001b[0mself\u001b[0m\u001b[0;34m,\u001b[0m \u001b[0mkey\u001b[0m\u001b[0;34m,\u001b[0m \u001b[0mvalue\u001b[0m\u001b[0;34m)\u001b[0m\u001b[0;34m:\u001b[0m\u001b[0;34m\u001b[0m\u001b[0;34m\u001b[0m\u001b[0m\n\u001b[1;32m    975\u001b[0m         \u001b[0;31m# fails with AttributeError for IntervalIndex\u001b[0m\u001b[0;34m\u001b[0m\u001b[0;34m\u001b[0m\u001b[0;34m\u001b[0m\u001b[0m\n\u001b[0;32m--> 976\u001b[0;31m         \u001b[0mloc\u001b[0m \u001b[0;34m=\u001b[0m \u001b[0mself\u001b[0m\u001b[0;34m.\u001b[0m\u001b[0mindex\u001b[0m\u001b[0;34m.\u001b[0m\u001b[0m_engine\u001b[0m\u001b[0;34m.\u001b[0m\u001b[0mget_loc\u001b[0m\u001b[0;34m(\u001b[0m\u001b[0mkey\u001b[0m\u001b[0;34m)\u001b[0m\u001b[0;34m\u001b[0m\u001b[0;34m\u001b[0m\u001b[0m\n\u001b[0m\u001b[1;32m    977\u001b[0m         \u001b[0mvalidate_numeric_casting\u001b[0m\u001b[0;34m(\u001b[0m\u001b[0mself\u001b[0m\u001b[0;34m.\u001b[0m\u001b[0mdtype\u001b[0m\u001b[0;34m,\u001b[0m \u001b[0mvalue\u001b[0m\u001b[0;34m)\u001b[0m\u001b[0;34m\u001b[0m\u001b[0;34m\u001b[0m\u001b[0m\n\u001b[1;32m    978\u001b[0m         \u001b[0mself\u001b[0m\u001b[0;34m.\u001b[0m\u001b[0m_values\u001b[0m\u001b[0;34m[\u001b[0m\u001b[0mloc\u001b[0m\u001b[0;34m]\u001b[0m \u001b[0;34m=\u001b[0m \u001b[0mvalue\u001b[0m\u001b[0;34m\u001b[0m\u001b[0;34m\u001b[0m\u001b[0m\n",
      "\u001b[0;32mpandas/_libs/index.pyx\u001b[0m in \u001b[0;36mpandas._libs.index.IndexEngine.get_loc\u001b[0;34m()\u001b[0m\n",
      "\u001b[0;32mpandas/_libs/index.pyx\u001b[0m in \u001b[0;36mpandas._libs.index.IndexEngine.get_loc\u001b[0;34m()\u001b[0m\n",
      "\u001b[0;32m~/.conda/envs/untitled1/lib/python3.7/site-packages/pandas/core/series.py\u001b[0m in \u001b[0;36m__repr__\u001b[0;34m(self)\u001b[0m\n\u001b[1;32m   1276\u001b[0m             \u001b[0mmin_rows\u001b[0m\u001b[0;34m=\u001b[0m\u001b[0mmin_rows\u001b[0m\u001b[0;34m,\u001b[0m\u001b[0;34m\u001b[0m\u001b[0;34m\u001b[0m\u001b[0m\n\u001b[1;32m   1277\u001b[0m             \u001b[0mmax_rows\u001b[0m\u001b[0;34m=\u001b[0m\u001b[0mmax_rows\u001b[0m\u001b[0;34m,\u001b[0m\u001b[0;34m\u001b[0m\u001b[0;34m\u001b[0m\u001b[0m\n\u001b[0;32m-> 1278\u001b[0;31m             \u001b[0mlength\u001b[0m\u001b[0;34m=\u001b[0m\u001b[0mshow_dimensions\u001b[0m\u001b[0;34m,\u001b[0m\u001b[0;34m\u001b[0m\u001b[0;34m\u001b[0m\u001b[0m\n\u001b[0m\u001b[1;32m   1279\u001b[0m         )\n\u001b[1;32m   1280\u001b[0m         \u001b[0mresult\u001b[0m \u001b[0;34m=\u001b[0m \u001b[0mbuf\u001b[0m\u001b[0;34m.\u001b[0m\u001b[0mgetvalue\u001b[0m\u001b[0;34m(\u001b[0m\u001b[0;34m)\u001b[0m\u001b[0;34m\u001b[0m\u001b[0;34m\u001b[0m\u001b[0m\n",
      "\u001b[0;32m~/.conda/envs/untitled1/lib/python3.7/site-packages/pandas/core/series.py\u001b[0m in \u001b[0;36mto_string\u001b[0;34m(self, buf, na_rep, float_format, header, index, length, dtype, name, max_rows, min_rows)\u001b[0m\n\u001b[1;32m   1341\u001b[0m             \u001b[0mmax_rows\u001b[0m\u001b[0;34m=\u001b[0m\u001b[0mmax_rows\u001b[0m\u001b[0;34m,\u001b[0m\u001b[0;34m\u001b[0m\u001b[0;34m\u001b[0m\u001b[0m\n\u001b[1;32m   1342\u001b[0m         )\n\u001b[0;32m-> 1343\u001b[0;31m         \u001b[0mresult\u001b[0m \u001b[0;34m=\u001b[0m \u001b[0mformatter\u001b[0m\u001b[0;34m.\u001b[0m\u001b[0mto_string\u001b[0m\u001b[0;34m(\u001b[0m\u001b[0;34m)\u001b[0m\u001b[0;34m\u001b[0m\u001b[0;34m\u001b[0m\u001b[0m\n\u001b[0m\u001b[1;32m   1344\u001b[0m \u001b[0;34m\u001b[0m\u001b[0m\n\u001b[1;32m   1345\u001b[0m         \u001b[0;31m# catch contract violations\u001b[0m\u001b[0;34m\u001b[0m\u001b[0;34m\u001b[0m\u001b[0;34m\u001b[0m\u001b[0m\n",
      "\u001b[0;32m~/.conda/envs/untitled1/lib/python3.7/site-packages/pandas/io/formats/format.py\u001b[0m in \u001b[0;36mto_string\u001b[0;34m(self)\u001b[0m\n\u001b[1;32m    368\u001b[0m \u001b[0;34m\u001b[0m\u001b[0m\n\u001b[1;32m    369\u001b[0m         \u001b[0mfmt_index\u001b[0m\u001b[0;34m,\u001b[0m \u001b[0mhave_header\u001b[0m \u001b[0;34m=\u001b[0m \u001b[0mself\u001b[0m\u001b[0;34m.\u001b[0m\u001b[0m_get_formatted_index\u001b[0m\u001b[0;34m(\u001b[0m\u001b[0;34m)\u001b[0m\u001b[0;34m\u001b[0m\u001b[0;34m\u001b[0m\u001b[0m\n\u001b[0;32m--> 370\u001b[0;31m         \u001b[0mfmt_values\u001b[0m \u001b[0;34m=\u001b[0m \u001b[0mself\u001b[0m\u001b[0;34m.\u001b[0m\u001b[0m_get_formatted_values\u001b[0m\u001b[0;34m(\u001b[0m\u001b[0;34m)\u001b[0m\u001b[0;34m\u001b[0m\u001b[0;34m\u001b[0m\u001b[0m\n\u001b[0m\u001b[1;32m    371\u001b[0m \u001b[0;34m\u001b[0m\u001b[0m\n\u001b[1;32m    372\u001b[0m         \u001b[0;32mif\u001b[0m \u001b[0mself\u001b[0m\u001b[0;34m.\u001b[0m\u001b[0mis_truncated_vertically\u001b[0m\u001b[0;34m:\u001b[0m\u001b[0;34m\u001b[0m\u001b[0;34m\u001b[0m\u001b[0m\n",
      "\u001b[0;32m~/.conda/envs/untitled1/lib/python3.7/site-packages/pandas/io/formats/format.py\u001b[0m in \u001b[0;36m_get_formatted_values\u001b[0;34m(self)\u001b[0m\n\u001b[1;32m    357\u001b[0m             \u001b[0mfloat_format\u001b[0m\u001b[0;34m=\u001b[0m\u001b[0mself\u001b[0m\u001b[0;34m.\u001b[0m\u001b[0mfloat_format\u001b[0m\u001b[0;34m,\u001b[0m\u001b[0;34m\u001b[0m\u001b[0;34m\u001b[0m\u001b[0m\n\u001b[1;32m    358\u001b[0m             \u001b[0mna_rep\u001b[0m\u001b[0;34m=\u001b[0m\u001b[0mself\u001b[0m\u001b[0;34m.\u001b[0m\u001b[0mna_rep\u001b[0m\u001b[0;34m,\u001b[0m\u001b[0;34m\u001b[0m\u001b[0;34m\u001b[0m\u001b[0m\n\u001b[0;32m--> 359\u001b[0;31m             \u001b[0mleading_space\u001b[0m\u001b[0;34m=\u001b[0m\u001b[0mself\u001b[0m\u001b[0;34m.\u001b[0m\u001b[0mindex\u001b[0m\u001b[0;34m,\u001b[0m\u001b[0;34m\u001b[0m\u001b[0;34m\u001b[0m\u001b[0m\n\u001b[0m\u001b[1;32m    360\u001b[0m         )\n\u001b[1;32m    361\u001b[0m \u001b[0;34m\u001b[0m\u001b[0m\n",
      "\u001b[0;32m~/.conda/envs/untitled1/lib/python3.7/site-packages/pandas/io/formats/format.py\u001b[0m in \u001b[0;36mformat_array\u001b[0;34m(values, formatter, float_format, na_rep, digits, space, justify, decimal, leading_space, quoting)\u001b[0m\n\u001b[1;32m   1195\u001b[0m \u001b[0;34m\u001b[0m\u001b[0m\n\u001b[1;32m   1196\u001b[0m     \u001b[0;32mif\u001b[0m \u001b[0mspace\u001b[0m \u001b[0;32mis\u001b[0m \u001b[0;32mNone\u001b[0m\u001b[0;34m:\u001b[0m\u001b[0;34m\u001b[0m\u001b[0;34m\u001b[0m\u001b[0m\n\u001b[0;32m-> 1197\u001b[0;31m         \u001b[0mspace\u001b[0m \u001b[0;34m=\u001b[0m \u001b[0mget_option\u001b[0m\u001b[0;34m(\u001b[0m\u001b[0;34m\"display.column_space\"\u001b[0m\u001b[0;34m)\u001b[0m\u001b[0;34m\u001b[0m\u001b[0;34m\u001b[0m\u001b[0m\n\u001b[0m\u001b[1;32m   1198\u001b[0m \u001b[0;34m\u001b[0m\u001b[0m\n\u001b[1;32m   1199\u001b[0m     \u001b[0;32mif\u001b[0m \u001b[0mfloat_format\u001b[0m \u001b[0;32mis\u001b[0m \u001b[0;32mNone\u001b[0m\u001b[0;34m:\u001b[0m\u001b[0;34m\u001b[0m\u001b[0;34m\u001b[0m\u001b[0m\n",
      "\u001b[0;32m~/.conda/envs/untitled1/lib/python3.7/site-packages/pandas/_config/config.py\u001b[0m in \u001b[0;36m__call__\u001b[0;34m(self, *args, **kwds)\u001b[0m\n\u001b[1;32m    231\u001b[0m \u001b[0;34m\u001b[0m\u001b[0m\n\u001b[1;32m    232\u001b[0m     \u001b[0;32mdef\u001b[0m \u001b[0m__call__\u001b[0m\u001b[0;34m(\u001b[0m\u001b[0mself\u001b[0m\u001b[0;34m,\u001b[0m \u001b[0;34m*\u001b[0m\u001b[0margs\u001b[0m\u001b[0;34m,\u001b[0m \u001b[0;34m**\u001b[0m\u001b[0mkwds\u001b[0m\u001b[0;34m)\u001b[0m\u001b[0;34m:\u001b[0m\u001b[0;34m\u001b[0m\u001b[0;34m\u001b[0m\u001b[0m\n\u001b[0;32m--> 233\u001b[0;31m         \u001b[0;32mreturn\u001b[0m \u001b[0mself\u001b[0m\u001b[0;34m.\u001b[0m\u001b[0m__func__\u001b[0m\u001b[0;34m(\u001b[0m\u001b[0;34m*\u001b[0m\u001b[0margs\u001b[0m\u001b[0;34m,\u001b[0m \u001b[0;34m**\u001b[0m\u001b[0mkwds\u001b[0m\u001b[0;34m)\u001b[0m\u001b[0;34m\u001b[0m\u001b[0;34m\u001b[0m\u001b[0m\n\u001b[0m\u001b[1;32m    234\u001b[0m \u001b[0;34m\u001b[0m\u001b[0m\n\u001b[1;32m    235\u001b[0m     \u001b[0;34m@\u001b[0m\u001b[0mproperty\u001b[0m\u001b[0;34m\u001b[0m\u001b[0;34m\u001b[0m\u001b[0m\n",
      "\u001b[0;32m~/.conda/envs/untitled1/lib/python3.7/site-packages/pandas/_config/config.py\u001b[0m in \u001b[0;36m_get_option\u001b[0;34m(pat, silent)\u001b[0m\n\u001b[1;32m    103\u001b[0m \u001b[0;34m\u001b[0m\u001b[0m\n\u001b[1;32m    104\u001b[0m \u001b[0;32mdef\u001b[0m \u001b[0m_get_option\u001b[0m\u001b[0;34m(\u001b[0m\u001b[0mpat\u001b[0m\u001b[0;34m:\u001b[0m \u001b[0mstr\u001b[0m\u001b[0;34m,\u001b[0m \u001b[0msilent\u001b[0m\u001b[0;34m:\u001b[0m \u001b[0mbool\u001b[0m \u001b[0;34m=\u001b[0m \u001b[0;32mFalse\u001b[0m\u001b[0;34m)\u001b[0m\u001b[0;34m:\u001b[0m\u001b[0;34m\u001b[0m\u001b[0;34m\u001b[0m\u001b[0m\n\u001b[0;32m--> 105\u001b[0;31m     \u001b[0mkey\u001b[0m \u001b[0;34m=\u001b[0m \u001b[0m_get_single_key\u001b[0m\u001b[0;34m(\u001b[0m\u001b[0mpat\u001b[0m\u001b[0;34m,\u001b[0m \u001b[0msilent\u001b[0m\u001b[0;34m)\u001b[0m\u001b[0;34m\u001b[0m\u001b[0;34m\u001b[0m\u001b[0m\n\u001b[0m\u001b[1;32m    106\u001b[0m \u001b[0;34m\u001b[0m\u001b[0m\n\u001b[1;32m    107\u001b[0m     \u001b[0;31m# walk the nested dict\u001b[0m\u001b[0;34m\u001b[0m\u001b[0;34m\u001b[0m\u001b[0;34m\u001b[0m\u001b[0m\n",
      "\u001b[0;32m~/.conda/envs/untitled1/lib/python3.7/site-packages/pandas/_config/config.py\u001b[0m in \u001b[0;36m_get_single_key\u001b[0;34m(pat, silent)\u001b[0m\n\u001b[1;32m     97\u001b[0m         \u001b[0m_warn_if_deprecated\u001b[0m\u001b[0;34m(\u001b[0m\u001b[0mkey\u001b[0m\u001b[0;34m)\u001b[0m\u001b[0;34m\u001b[0m\u001b[0;34m\u001b[0m\u001b[0m\n\u001b[1;32m     98\u001b[0m \u001b[0;34m\u001b[0m\u001b[0m\n\u001b[0;32m---> 99\u001b[0;31m     \u001b[0mkey\u001b[0m \u001b[0;34m=\u001b[0m \u001b[0m_translate_key\u001b[0m\u001b[0;34m(\u001b[0m\u001b[0mkey\u001b[0m\u001b[0;34m)\u001b[0m\u001b[0;34m\u001b[0m\u001b[0;34m\u001b[0m\u001b[0m\n\u001b[0m\u001b[1;32m    100\u001b[0m \u001b[0;34m\u001b[0m\u001b[0m\n\u001b[1;32m    101\u001b[0m     \u001b[0;32mreturn\u001b[0m \u001b[0mkey\u001b[0m\u001b[0;34m\u001b[0m\u001b[0;34m\u001b[0m\u001b[0m\n",
      "\u001b[0;31mKeyboardInterrupt\u001b[0m: "
     ]
    }
   ],
   "source": [
    "import pandas as pd\n",
    "\n",
    "# df = pd.read_stata('/users/quasar/downloads/Machine_Learning_Health_care/DHS_NFHS_dataset_original/IAIR74DT/IAIR74FL.DTA', convert_categoricals = False )\n",
    "\n",
    "df"
   ]
  },
  {
   "cell_type": "code",
   "execution_count": 28,
   "metadata": {},
   "outputs": [
    {
     "output_type": "error",
     "ename": "AttributeError",
     "evalue": "'str' object has no attribute '_value_labels_read'",
     "traceback": [
      "\u001b[0;31m---------------------------------------------------------------------------\u001b[0m",
      "\u001b[0;31mAttributeError\u001b[0m                            Traceback (most recent call last)",
      "\u001b[0;32m<ipython-input-28-0f80c4d5a15e>\u001b[0m in \u001b[0;36m<module>\u001b[0;34m\u001b[0m\n\u001b[1;32m      3\u001b[0m \u001b[0;31m# df = pd.read_stata('/users/quasar/downloads/Machine_Learning_Health_care/DHS_NFHS_dataset_original/2004_05/IA_2005-06_DHS_03292021_104_160116/IABR52DT/IABR52FL.dta')\u001b[0m\u001b[0;34m\u001b[0m\u001b[0;34m\u001b[0m\u001b[0;34m\u001b[0m\u001b[0m\n\u001b[1;32m      4\u001b[0m \u001b[0;34m\u001b[0m\u001b[0m\n\u001b[0;32m----> 5\u001b[0;31m \u001b[0mdf\u001b[0m \u001b[0;34m=\u001b[0m \u001b[0mpd\u001b[0m\u001b[0;34m.\u001b[0m\u001b[0mio\u001b[0m\u001b[0;34m.\u001b[0m\u001b[0mstata\u001b[0m\u001b[0;34m.\u001b[0m\u001b[0mStataReader\u001b[0m\u001b[0;34m.\u001b[0m\u001b[0mvalue_labels\u001b[0m\u001b[0;34m(\u001b[0m\u001b[0;34m'/users/quasar/downloads/Machine_Learning_Health_care/DHS_NFHS_dataset_original/2004_05/IA_2005-06_DHS_03292021_104_160116/IABR52DT/IABR52FL.dta'\u001b[0m\u001b[0;34m)\u001b[0m\u001b[0;34m\u001b[0m\u001b[0;34m\u001b[0m\u001b[0m\n\u001b[0m\u001b[1;32m      6\u001b[0m \u001b[0;34m\u001b[0m\u001b[0m\n\u001b[1;32m      7\u001b[0m \u001b[0;34m\u001b[0m\u001b[0m\n",
      "\u001b[0;32m~/.conda/envs/untitled1/lib/python3.7/site-packages/pandas/io/stata.py\u001b[0m in \u001b[0;36mvalue_labels\u001b[0;34m(self)\u001b[0m\n\u001b[1;32m   1875\u001b[0m         \u001b[0mdict\u001b[0m\u001b[0;34m\u001b[0m\u001b[0;34m\u001b[0m\u001b[0m\n\u001b[1;32m   1876\u001b[0m         \"\"\"\n\u001b[0;32m-> 1877\u001b[0;31m         \u001b[0;32mif\u001b[0m \u001b[0;32mnot\u001b[0m \u001b[0mself\u001b[0m\u001b[0;34m.\u001b[0m\u001b[0m_value_labels_read\u001b[0m\u001b[0;34m:\u001b[0m\u001b[0;34m\u001b[0m\u001b[0;34m\u001b[0m\u001b[0m\n\u001b[0m\u001b[1;32m   1878\u001b[0m             \u001b[0mself\u001b[0m\u001b[0;34m.\u001b[0m\u001b[0m_read_value_labels\u001b[0m\u001b[0;34m(\u001b[0m\u001b[0;34m)\u001b[0m\u001b[0;34m\u001b[0m\u001b[0;34m\u001b[0m\u001b[0m\n\u001b[1;32m   1879\u001b[0m \u001b[0;34m\u001b[0m\u001b[0m\n",
      "\u001b[0;31mAttributeError\u001b[0m: 'str' object has no attribute '_value_labels_read'"
     ]
    }
   ],
   "source": [
    "import pandas as pd\n",
    "\n",
    "# df = pd.read_stata('/users/quasar/downloads/Machine_Learning_Health_care/DHS_NFHS_dataset_original/2004_05/IA_2005-06_DHS_03292021_104_160116/IABR52DT/IABR52FL.dta')\n",
    "\n",
    "df = pd.io.stata.StataReader.value_labels('/users/quasar/downloads/Machine_Learning_Health_care/DHS_NFHS_dataset_original/2004_05/IA_2005-06_DHS_03292021_104_160116/IABR52DT/IABR52FL.dta')\n",
    "\n",
    "\n",
    "df"
   ]
  },
  {
   "cell_type": "code",
   "execution_count": 20,
   "metadata": {},
   "outputs": [
    {
     "output_type": "stream",
     "name": "stdout",
     "text": [
      "   Unnamed: 0           caseid  bidx v000   v001  v002  v003  v004     v005  \\\n0           1     28  1   1  2     1  IA5  28001     1     2   NaN  2474583   \n1           2     28  1   1  2     2  IA5  28001     1     2   NaN  2474583   \n2           3     28  1   1  2     3  IA5  28001     1     2   NaN  2474583   \n3           4     28  1   1  2     4  IA5  28001     1     2   NaN  2474583   \n4           5     28  1   1  4     1  IA5  28001     1     4   NaN  2474583   \n\n   v006  ...  s585  s586  s587  s588a  s588b  s588c  s589  s590a  s590b  s590c  \n0     1  ...   NaN   NaN   NaN    NaN    NaN    NaN     1    NaN    NaN    NaN  \n1     1  ...   NaN   NaN   NaN    NaN    NaN    NaN     2    NaN    NaN    NaN  \n2     1  ...   NaN   NaN   NaN    NaN    NaN    NaN     3    NaN    NaN    NaN  \n3     1  ...   NaN   NaN   NaN    NaN    NaN    NaN     4    NaN    NaN    NaN  \n4     1  ...   0.0   NaN   0.0    NaN    NaN    NaN     5    NaN    NaN    NaN  \n\n[5 rows x 1176 columns]\n"
     ]
    },
    {
     "output_type": "execute_result",
     "data": {
      "text/plain": [
       "Index(['Unnamed: 0', 'caseid', 'bidx', 'v000', 'v001', 'v002', 'v003', 'v004',\n",
       "       'v005', 'v006',\n",
       "       ...\n",
       "       's585', 's586', 's587', 's588a', 's588b', 's588c', 's589', 's590a',\n",
       "       's590b', 's590c'],\n",
       "      dtype='object', length=1176)"
      ]
     },
     "metadata": {},
     "execution_count": 20
    }
   ],
   "source": [
    "import pandas as pd\n",
    "\n",
    "df = pd.read_csv('/users/quasar/downloads/nfhs3.csv', nrows = 1000)\n",
    "\n",
    "df['s589'] = df.astype('string')\n",
    "\n",
    "print(df.head())\n",
    "df.columns"
   ]
  },
  {
   "cell_type": "code",
   "execution_count": 21,
   "metadata": {},
   "outputs": [
    {
     "output_type": "execute_result",
     "data": {
      "text/plain": [
       "   Unnamed: 0           caseid  bidx v000   v001  v002  v003  v004     v005  \\\n",
       "0           1     28  1   1  2     1  IA5  28001     1     2   NaN  2474583   \n",
       "1           2     28  1   1  2     2  IA5  28001     1     2   NaN  2474583   \n",
       "2           3     28  1   1  2     3  IA5  28001     1     2   NaN  2474583   \n",
       "3           4     28  1   1  2     4  IA5  28001     1     2   NaN  2474583   \n",
       "4           5     28  1   1  4     1  IA5  28001     1     4   NaN  2474583   \n",
       "\n",
       "   v006  ...  s585  s586  s587  s588a  s588b  s588c  s589  s590a  s590b  s590c  \n",
       "0     1  ...   NaN   NaN   NaN    NaN    NaN    NaN   NaN    NaN    NaN    NaN  \n",
       "1     1  ...   NaN   NaN   NaN    NaN    NaN    NaN   NaN    NaN    NaN    NaN  \n",
       "2     1  ...   NaN   NaN   NaN    NaN    NaN    NaN   NaN    NaN    NaN    NaN  \n",
       "3     1  ...   NaN   NaN   NaN    NaN    NaN    NaN   NaN    NaN    NaN    NaN  \n",
       "4     1  ...   0.0   NaN   0.0    NaN    NaN    NaN   NaN    NaN    NaN    NaN  \n",
       "\n",
       "[5 rows x 1176 columns]"
      ],
      "text/html": "<div>\n<style scoped>\n    .dataframe tbody tr th:only-of-type {\n        vertical-align: middle;\n    }\n\n    .dataframe tbody tr th {\n        vertical-align: top;\n    }\n\n    .dataframe thead th {\n        text-align: right;\n    }\n</style>\n<table border=\"1\" class=\"dataframe\">\n  <thead>\n    <tr style=\"text-align: right;\">\n      <th></th>\n      <th>Unnamed: 0</th>\n      <th>caseid</th>\n      <th>bidx</th>\n      <th>v000</th>\n      <th>v001</th>\n      <th>v002</th>\n      <th>v003</th>\n      <th>v004</th>\n      <th>v005</th>\n      <th>v006</th>\n      <th>...</th>\n      <th>s585</th>\n      <th>s586</th>\n      <th>s587</th>\n      <th>s588a</th>\n      <th>s588b</th>\n      <th>s588c</th>\n      <th>s589</th>\n      <th>s590a</th>\n      <th>s590b</th>\n      <th>s590c</th>\n    </tr>\n  </thead>\n  <tbody>\n    <tr>\n      <th>0</th>\n      <td>1</td>\n      <td>28  1   1  2</td>\n      <td>1</td>\n      <td>IA5</td>\n      <td>28001</td>\n      <td>1</td>\n      <td>2</td>\n      <td>NaN</td>\n      <td>2474583</td>\n      <td>1</td>\n      <td>...</td>\n      <td>NaN</td>\n      <td>NaN</td>\n      <td>NaN</td>\n      <td>NaN</td>\n      <td>NaN</td>\n      <td>NaN</td>\n      <td>NaN</td>\n      <td>NaN</td>\n      <td>NaN</td>\n      <td>NaN</td>\n    </tr>\n    <tr>\n      <th>1</th>\n      <td>2</td>\n      <td>28  1   1  2</td>\n      <td>2</td>\n      <td>IA5</td>\n      <td>28001</td>\n      <td>1</td>\n      <td>2</td>\n      <td>NaN</td>\n      <td>2474583</td>\n      <td>1</td>\n      <td>...</td>\n      <td>NaN</td>\n      <td>NaN</td>\n      <td>NaN</td>\n      <td>NaN</td>\n      <td>NaN</td>\n      <td>NaN</td>\n      <td>NaN</td>\n      <td>NaN</td>\n      <td>NaN</td>\n      <td>NaN</td>\n    </tr>\n    <tr>\n      <th>2</th>\n      <td>3</td>\n      <td>28  1   1  2</td>\n      <td>3</td>\n      <td>IA5</td>\n      <td>28001</td>\n      <td>1</td>\n      <td>2</td>\n      <td>NaN</td>\n      <td>2474583</td>\n      <td>1</td>\n      <td>...</td>\n      <td>NaN</td>\n      <td>NaN</td>\n      <td>NaN</td>\n      <td>NaN</td>\n      <td>NaN</td>\n      <td>NaN</td>\n      <td>NaN</td>\n      <td>NaN</td>\n      <td>NaN</td>\n      <td>NaN</td>\n    </tr>\n    <tr>\n      <th>3</th>\n      <td>4</td>\n      <td>28  1   1  2</td>\n      <td>4</td>\n      <td>IA5</td>\n      <td>28001</td>\n      <td>1</td>\n      <td>2</td>\n      <td>NaN</td>\n      <td>2474583</td>\n      <td>1</td>\n      <td>...</td>\n      <td>NaN</td>\n      <td>NaN</td>\n      <td>NaN</td>\n      <td>NaN</td>\n      <td>NaN</td>\n      <td>NaN</td>\n      <td>NaN</td>\n      <td>NaN</td>\n      <td>NaN</td>\n      <td>NaN</td>\n    </tr>\n    <tr>\n      <th>4</th>\n      <td>5</td>\n      <td>28  1   1  4</td>\n      <td>1</td>\n      <td>IA5</td>\n      <td>28001</td>\n      <td>1</td>\n      <td>4</td>\n      <td>NaN</td>\n      <td>2474583</td>\n      <td>1</td>\n      <td>...</td>\n      <td>0.0</td>\n      <td>NaN</td>\n      <td>0.0</td>\n      <td>NaN</td>\n      <td>NaN</td>\n      <td>NaN</td>\n      <td>NaN</td>\n      <td>NaN</td>\n      <td>NaN</td>\n      <td>NaN</td>\n    </tr>\n  </tbody>\n</table>\n<p>5 rows × 1176 columns</p>\n</div>"
     },
     "metadata": {},
     "execution_count": 21
    }
   ],
   "source": [
    "df['s589'] = df['s589'].str.decode('utf-8') \n",
    "df.head()"
   ]
  },
  {
   "cell_type": "code",
   "execution_count": 22,
   "metadata": {},
   "outputs": [
    {
     "output_type": "execute_result",
     "data": {
      "text/plain": [
       "array([nan, 14., 17., 11., 21., 12., 99., 18., 16., 19., 44., 22.])"
      ]
     },
     "metadata": {},
     "execution_count": 22
    }
   ],
   "source": [
    "df['s517'].unique()"
   ]
  },
  {
   "cell_type": "code",
   "execution_count": 23,
   "metadata": {},
   "outputs": [
    {
     "output_type": "error",
     "ename": "SyntaxError",
     "evalue": "EOF while scanning triple-quoted string literal (<ipython-input-23-e0d8454ffdff>, line 13)",
     "traceback": [
      "\u001b[0;36m  File \u001b[0;32m\"<ipython-input-23-e0d8454ffdff>\"\u001b[0;36m, line \u001b[0;32m13\u001b[0m\n\u001b[0;31m    \u001b[0m\n\u001b[0m    ^\u001b[0m\n\u001b[0;31mSyntaxError\u001b[0m\u001b[0;31m:\u001b[0m EOF while scanning triple-quoted string literal\n"
     ]
    }
   ],
   "source": [
    "# parameter selection for diabetes\n",
    "\n",
    "# no retinopathy possible - though best way - fundus test \n",
    "# how to dissociate genetic factors from environmental factor \n",
    "# see for study for genetic factors from state \n",
    "\n",
    "\"\"\"\n",
    "As per research paper \n",
    "1. preganancies\n",
    "2. glucose\n",
    "3. Blood pressure \n",
    "4. Skin Thickness \n",
    "5. Insulin \n",
    "6. BMI \n",
    "7. DiabetesPedigreeFunction - based upon family history \n",
    "8. Age\n",
    "\n",
    "output variable 0 outcome - 0 or 1 \n",
    "\n",
    "\"\"\"\n",
    "\n",
    "\"\"\"\n",
    "V012 - current age - respondent \n",
    "V013 - age in 5 years groups - (15-19), (20-24), (25-29),(30-34)\n",
    "\n",
    "V023 - Sample domain - State code \n",
    "V024 - State \n",
    "V025 - Type of place of residence - urban - rural\n",
    "V026 - defacto place of residence - large city / Small city/ Town/ Countryside\n",
    "\n",
    "V101 - state\n",
    "V102 - Type of place of residence - urban or rural\n",
    "V106 - highest educational level\n",
    "\n",
    "V123 - household has bicycle\n",
    "V124 - household has motorcycle/scooter\n",
    "V125 - household has car\n",
    "\n",
    "V130 - Religion - hindu, Muslim, christian Sikh \n",
    "V136 - Number of household members\n",
    "\n",
    "V139 - Dejure state of residence - for genetic identification \n",
    "V140 - Dejure type of place of residence \n",
    "V141 - Dejure place of residence \n",
    "V150 - Relationship to household \n",
    "\n",
    "V166 - Iodine-in-salt test result\n",
    "V190 - Wealth index \n",
    "\n",
    "V463A - Smokes cigrattes/bidis\n",
    "V463B - Smokes pipe/cigar\n",
    "V463C - Chewing tobacco\n",
    "V463D - Uses snuff\n",
    "V463E - Smokes paan masala\n",
    "V463F - Smokes ghutka\n",
    "V463G - Smokes other chewing tobacco\n",
    "V463X - Smokes other \n",
    "V463Z - Smokes nothing \n",
    "V464  - Number of cigrattes in last 24 hours\n",
    "\n",
    "\n",
    "\n",
    "\n",
    "\n",
    "\n",
    "\n",
    "\n",
    "\n",
    "\n",
    "\n",
    "\n",
    "\n",
    "S569  - drinks alchol \n",
    "S570  - frequency of alchol use \n",
    "\n",
    "S575A - do you have diabetes - 0 No , 1 yes, 8 Don't know\n",
    "S575C - do you have goiter or other thyroid disorder \n",
    "\"\"\"\n",
    "\n",
    "\"\"\"\n",
    "NFHS-3 \n",
    "\n",
    "S62A\tHousehold has cows/bulls/buffalo\n",
    "S62B\tHousehold has camels\n",
    "S62C\tHousehold has horses/donkeys/mules\n",
    "S62D\tHousehold has goats\n",
    "S62E\tHousehold has sheep\n",
    "S62F\tHousehold has chickens\n",
    "\n",
    "S117\tCaste or tribe\n",
    "S118\tType of caste or tribe\n",
    "\n",
    "S558A\tMother consumed: milk or curd\n",
    "S558B\tMother consumed: pulses or beans\n",
    "S558C\tMother consumed: dark green leafy veggies\n",
    "S558D\tMother consumed: fruits\n",
    "S558E\tMother consumed: eggs\n",
    "S558F\tMother consumed: fish\n",
    "S558G\tMother consumed: chicken or meat\n",
    "\n",
    "\n",
    "S569\tDrinks alcohol\n",
    "S570\tFrequency of alcohol use\n",
    "S575A\tDo you have: diabetes\n",
    "S575C\tDo you have: goiter or other thyroid disorder\n",
    "\n",
    "\n",
    "SM601A\tMan consumed: milk or curd\n",
    "SM601B\tMan consumed: pulses or beans\n",
    "SM601C\tMan consumed: dark green leafy veggies\n",
    "SM601D\tMan consumed: fruits\n",
    "SM601E\tMan consumed: eggs\n",
    "SM601F\tMan consumed: fish\n",
    "SM601G\tMan consumed: chicken or meat\n",
    "\n",
    "SM612\tDrink alcohol\n",
    "SM613\tFrequency of alcohol consumption\n",
    "SM618A\tDo you have: diabetes\n",
    "SM618C\tDo you have: goiter or other thyroid disorder\n",
    "\n",
    "MV437\tRespondent's weight (kilos-1d)\n",
    "MV438\tRespondent's height (cms-1d)\n",
    "MV439\tHt/A Percentile (resp)\n",
    "MV440\tHt/A Standard deviations (resp)\n",
    "MV441\tHt/A Percent ref. median (resp)\n",
    "MV442\tWt/Ht Percent ref. median (DHS)\n",
    "MV443\tWt/Ht Percent ref. median (Fog)\n",
    "MV444\tWt/Ht Percent ref. median (WHO)\n",
    "MV444A\tWt/Ht Std deviations (resp) DHS\n",
    "MV445\tBody mass index for respondent\n",
    "\n",
    "HV024\tState\n",
    "\n",
    "HV101\tRelationship to head\n",
    "\n",
    "HV234\tTest salt for Iodine\n",
    "\n",
    "V101\tState\n",
    "V130\tReligion\n",
    "\n",
    "V139\tDe jure state of residence\n",
    "V150\tRelationship to household head\n",
    "\n",
    "V704\tPartner's occupation\n",
    "V716\tRespondent's occupation\n",
    "\n",
    "VCAL(1)\tBirths, pregnancies, and contraceptive use\n",
    "\"\"\"\n"
   ]
  },
  {
   "cell_type": "code",
   "execution_count": null,
   "metadata": {},
   "outputs": [],
   "source": []
  }
 ]
}