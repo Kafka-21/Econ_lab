{
 "metadata": {
  "language_info": {
   "codemirror_mode": {
    "name": "ipython",
    "version": 3
   },
   "file_extension": ".py",
   "mimetype": "text/x-python",
   "name": "python",
   "nbconvert_exporter": "python",
   "pygments_lexer": "ipython3",
   "version": "3.7.7-final"
  },
  "orig_nbformat": 2,
  "kernelspec": {
   "name": "Python 3.7.7 64-bit ('untitled1': conda)",
   "display_name": "Python 3.7.7 64-bit ('untitled1': conda)",
   "metadata": {
    "interpreter": {
     "hash": "5cd5d5ededaf7404eeafafda3154906a686585a52361ea8890e2dce0bcbf6f64"
    }
   }
  }
 },
 "nbformat": 4,
 "nbformat_minor": 2,
 "cells": [
  {
   "cell_type": "code",
   "execution_count": 2,
   "metadata": {},
   "outputs": [
    {
     "output_type": "error",
     "ename": "SyntaxError",
     "evalue": "invalid syntax (<ipython-input-2-acf20849c50a>, line 2)",
     "traceback": [
      "\u001b[0;36m  File \u001b[0;32m\"<ipython-input-2-acf20849c50a>\"\u001b[0;36m, line \u001b[0;32m2\u001b[0m\n\u001b[0;31m    5. Write your first code in Python - explore NumPy, Pandas and Matplotlib. Try the\u001b[0m\n\u001b[0m           ^\u001b[0m\n\u001b[0;31mSyntaxError\u001b[0m\u001b[0;31m:\u001b[0m invalid syntax\n"
     ]
    }
   ],
   "source": [
    "5. Write your first code in Python - explore NumPy, Pandas and Matplotlib. Try the\n",
    "following exercises: simple calculations, print function, script file, Python Notebook,\n",
    "Python data structure (lists, tuples, dictionaries, JSON data format)\n",
    "6. Basic programming techniques: branching and looping, vector and matrices, user-\n",
    "defined functions\n",
    "7. Object-oriented programming with Python"
   ]
  },
  {
   "cell_type": "code",
   "execution_count": 15,
   "metadata": {},
   "outputs": [
    {
     "output_type": "stream",
     "name": "stdout",
     "text": [
      "[1 2 3 4 5 6]\n[5 6 7 8]\n[0. 0.]\n[1. 1.]\n[1. 1.]\n[0 1 2 3]\n[2 4 6 8]\n"
     ]
    }
   ],
   "source": [
    "# Numpy tutorial\n",
    "\n",
    "import numpy as np\n",
    "\n",
    "# Using Numpy to create a array \n",
    "\n",
    "a = np.array([1, 2, 3, 4, 5, 6])\n",
    "print(a)\n",
    "\n",
    "a = np.array([[1, 2, 3, 4], [5, 6, 7, 8], [9, 10, 11, 12]])\n",
    "print(a[1])\n",
    "\n",
    "# creating a zero's array\n",
    "print(np.zeros(2))\n",
    "\n",
    "# creating one's array\n",
    "print(np.ones(2))\n",
    "\n",
    "# creating an empty array with 2 elements \n",
    "print(np.empty(2))\n",
    "\n",
    "# creating an array with a range of elements \n",
    "print(np.arange(4))\n",
    "\n",
    "# creating an array with given step size\n",
    "print(np.arange(2, 10, 2))"
   ]
  },
  {
   "cell_type": "code",
   "execution_count": null,
   "metadata": {},
   "outputs": [],
   "source": []
  }
 ]
}