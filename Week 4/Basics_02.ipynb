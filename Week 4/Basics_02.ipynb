{
 "metadata": {
  "language_info": {
   "codemirror_mode": {
    "name": "ipython",
    "version": 3
   },
   "file_extension": ".py",
   "mimetype": "text/x-python",
   "name": "python",
   "nbconvert_exporter": "python",
   "pygments_lexer": "ipython3",
   "version": "3.7.7-final"
  },
  "orig_nbformat": 2,
  "kernelspec": {
   "name": "Python 3.7.7 64-bit ('untitled1': conda)",
   "display_name": "Python 3.7.7 64-bit ('untitled1': conda)",
   "metadata": {
    "interpreter": {
     "hash": "5cd5d5ededaf7404eeafafda3154906a686585a52361ea8890e2dce0bcbf6f64"
    }
   }
  }
 },
 "nbformat": 4,
 "nbformat_minor": 2,
 "cells": [
  {
   "cell_type": "code",
   "execution_count": 21,
   "metadata": {},
   "outputs": [
    {
     "output_type": "stream",
     "name": "stdout",
     "text": [
      "[1 2 3 4 5 6]\n[5 6 7 8]\n[0. 0.]\n[1. 1.]\n[1. 1.]\n[0 1 2 3]\n[2 4 6 8]\n[ 0.   2.5  5.   7.5 10. ]\n[1 1]\n[ 1  2  3  4  5  7 15]\n[1 0 6 3 2 5 4]\n7\n[1 2 3 4 5 6 7 8]\n[[1 2]\n [3 4]\n [5 6]]\n[[[0 1 2 3]\n  [4 5 6 7]]\n\n [[0 1 2 3]\n  [4 5 6 7]]\n\n [[0 1 2 3]\n  [4 5 6 7]]]\n3\n"
     ]
    }
   ],
   "source": [
    "# Numpy tutorial\n",
    "\n",
    "import numpy as np\n",
    "\n",
    "# Using Numpy to create a array \n",
    "\n",
    "a = np.array([1, 2, 3, 4, 5, 6])\n",
    "print(a)\n",
    "\n",
    "a = np.array([[1, 2, 3, 4], [5, 6, 7, 8], [9, 10, 11, 12]])\n",
    "print(a[1])\n",
    "\n",
    "# creating a zero's array\n",
    "print(np.zeros(2))\n",
    "\n",
    "# creating one's array\n",
    "print(np.ones(2))\n",
    "\n",
    "# creating an empty array with 2 elements \n",
    "print(np.empty(2))\n",
    "\n",
    "# creating an array with a range of elements \n",
    "print(np.arange(4))\n",
    "\n",
    "# creating an array with given step size\n",
    "print(np.arange(2, 10, 2))\n",
    "\n",
    "# use linspace() to create array with values that are spaced linearly in a specified interval\n",
    "print(np.linspace(0, 10, num = 5))\n",
    "\n",
    "# specifying data type\n",
    "x = np.ones(2, dtype = np.int64)\n",
    "print(x)\n",
    "\n",
    "# adding, removing and sorting elements \n",
    "arr = np.array([2, 1, 5, 4, 15, 7, 3])\n",
    "print(np.sort(arr))\n",
    "print(np.argsort(arr))\n",
    "print(np.searchsorted(arr, 19))\n",
    "\n",
    "# concatenate()\n",
    "arr1 = np.array([1, 2, 3, 4])\n",
    "arr2 = np.array([5, 6, 7, 8])\n",
    "print(np.concatenate((arr1, arr2)))\n",
    "\n",
    "x = np.array([[1, 2], [3, 4]])\n",
    "y = np.array([[5, 6]])\n",
    "print(np.concatenate((x, y), axis = 0))\n",
    "\n",
    "# to know the shape and size of an array \n",
    "\n",
    "arr3 = np.array([[[0, 1, 2, 3],\n",
    "                  [4, 5, 6, 7]], \n",
    "                  \n",
    "                  [[0, 1, 2, 3,], \n",
    "                   [4, 5, 6, 7]],\n",
    "                  \n",
    "                  [[0, 1, 2, 3],\n",
    "                   [4, 5, 6, 7]]])\n",
    "\n",
    "print(arr3)\n",
    "print(arr3.ndim)\n",
    "print(arr3.size)\n",
    "print(arr3.shape)\n"
   ]
  },
  {
   "cell_type": "code",
   "execution_count": null,
   "metadata": {},
   "outputs": [],
   "source": []
  }
 ]
}