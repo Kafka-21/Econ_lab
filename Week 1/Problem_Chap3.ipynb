{
 "metadata": {
  "language_info": {
   "codemirror_mode": {
    "name": "ipython",
    "version": 3
   },
   "file_extension": ".py",
   "mimetype": "text/x-python",
   "name": "python",
   "nbconvert_exporter": "python",
   "pygments_lexer": "ipython3",
   "version": "3.7.7-final"
  },
  "orig_nbformat": 2,
  "kernelspec": {
   "name": "Python 3.7.7 64-bit ('untitled1': conda)",
   "display_name": "Python 3.7.7 64-bit ('untitled1': conda)",
   "metadata": {
    "interpreter": {
     "hash": "5cd5d5ededaf7404eeafafda3154906a686585a52361ea8890e2dce0bcbf6f64"
    }
   }
  }
 },
 "nbformat": 4,
 "nbformat_minor": 2,
 "cells": [
  {
   "cell_type": "code",
   "execution_count": 3,
   "metadata": {},
   "outputs": [
    {
     "output_type": "stream",
     "name": "stdout",
     "text": [
      "Number of digit using iteration : 8\nNumber of digit using recusion :  8\n"
     ]
    }
   ],
   "source": [
    "# Problem 1\n",
    "\"\"\"\n",
    "1. Construct both recursive and iterative algorithms for\n",
    "(a) Finding the number of digits (in base 10) in a given positive integer assuming there are no leading zeroes.\n",
    "(b) Reversing the digits of a positive integer in base 10.\n",
    "\"\"\"\n",
    "\n",
    "# iterative program to count number of digit \n",
    "\n",
    "def count_digit(n):\n",
    "    count = 0\n",
    "    while n!= 0:\n",
    "        n //= 10\n",
    "        count += 1\n",
    "    return count \n",
    "\n",
    "n = 20349586\n",
    "print(\"Number of digit using iteration :\", count_digit(n))\n",
    "\n",
    "# recursive function program to count number of digit\n",
    "def count_digit_r(n):\n",
    "    if n == 0:\n",
    "        return 0\n",
    "    return 1 + count_digit(n // 10)\n",
    "\n",
    "print(\"Number of digit using recusion : \", count_digit_r(n))"
   ]
  },
  {
   "cell_type": "code",
   "execution_count": null,
   "metadata": {},
   "outputs": [],
   "source": [
    "# program to reverse the digit \n",
    "\n",
    "def reverse_digit(n):\n",
    "    "
   ]
  }
 ]
}