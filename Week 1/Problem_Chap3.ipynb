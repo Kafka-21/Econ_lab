{
 "metadata": {
  "language_info": {
   "codemirror_mode": {
    "name": "ipython",
    "version": 3
   },
   "file_extension": ".py",
   "mimetype": "text/x-python",
   "name": "python",
   "nbconvert_exporter": "python",
   "pygments_lexer": "ipython3",
   "version": "3.7.7-final"
  },
  "orig_nbformat": 2,
  "kernelspec": {
   "name": "Python 3.7.7 64-bit ('untitled1': conda)",
   "display_name": "Python 3.7.7 64-bit ('untitled1': conda)",
   "metadata": {
    "interpreter": {
     "hash": "5cd5d5ededaf7404eeafafda3154906a686585a52361ea8890e2dce0bcbf6f64"
    }
   }
  }
 },
 "nbformat": 4,
 "nbformat_minor": 2,
 "cells": [
  {
   "cell_type": "code",
   "execution_count": 18,
   "metadata": {},
   "outputs": [
    {
     "output_type": "stream",
     "name": "stdout",
     "text": [
      "Number of digit using iteration : 8\nNumber of digit using recusion :  8\nReverse of number using iteration:  98732\nReverse of number using recursion:  98732\n"
     ]
    }
   ],
   "source": [
    "# Problem 1\n",
    "\"\"\"\n",
    "1. Construct both recursive and iterative algorithms for\n",
    "(a) Finding the number of digits (in base 10) in a given positive integer assuming there are no leading zeroes.\n",
    "(b) Reversing the digits of a positive integer in base 10.\n",
    "\"\"\"\n",
    "\n",
    "# iterative program to count number of digit \n",
    "\n",
    "def count_digit(n):\n",
    "    count = 0\n",
    "    while n!= 0:\n",
    "        n //= 10\n",
    "        count += 1\n",
    "    return count \n",
    "\n",
    "n = 20349586\n",
    "print(\"Number of digit using iteration :\", count_digit(n))\n",
    "\n",
    "# recursive function program to count number of digit\n",
    "def count_digit_r(n):\n",
    "    if n == 0:\n",
    "        return 0\n",
    "    return 1 + count_digit(n // 10)\n",
    "\n",
    "print(\"Number of digit using recusion : \", count_digit_r(n))\n",
    "\n",
    "# iterative program to reverse the digit of positive integer - time complexity O(log(n))\n",
    "\n",
    "def reverse_digit(n):\n",
    "    reverse = 0\n",
    "    while n > 0:\n",
    "        reminder = n % 10\n",
    "        reverse = reverse * 10 + reminder\n",
    "        n //= 10\n",
    "    return reverse\n",
    "\n",
    "n = 23789\n",
    "print(\"Reverse of number using iteration: \", reverse_digit(n))   \n",
    "\n",
    "# recursive program to find reverse of digit of positive number \n",
    "reverse = 0\n",
    "def reverse_digit_rec(n):\n",
    "    global reverse \n",
    "    if( n > 0):\n",
    "        reminder = n%10\n",
    "        reverse = (reverse *10) + reminder\n",
    "        reverse_digit_rec(n//10)\n",
    "    return reverse\n",
    "\n",
    "print(\"Reverse of number using recursion: \", reverse_digit_rec(n)) "
   ]
  },
  {
   "cell_type": "code",
   "execution_count": null,
   "metadata": {},
   "outputs": [],
   "source": [
    "# Problem 2\n",
    "\"\"\"\n",
    "2. Suppose we rewrite the fast powering algorithm described in Example 3.9 as follows\n",
    "           1 if n = 0\n",
    "f(n) =     power(x, n) = x ∗ power(x, (n div 2)) ∗ power(x, (n div 2)) if(n = odd)\n",
    "           power(x, (n div 2)) ∗ power(x, (n div 2)) otherwise \n",
    "\n",
    "Do you foresee any problem?\n",
    "\"\"\"\n",
    "\n"
   ]
  },
  {
   "cell_type": "code",
   "execution_count": null,
   "metadata": {},
   "outputs": [],
   "source": [
    "# Problem 4\n",
    "\"\"\"\n",
    "Design an iterative process that uses successive squaring to compute x^n and works in O(lg n) time.\n",
    "\"\"\"\n"
   ]
  },
  {
   "cell_type": "code",
   "execution_count": null,
   "metadata": {},
   "outputs": [],
   "source": [
    "# Problem 5\n",
    "\"\"\"\n",
    "The powering algorithm is based on successive multiplications. Similarly, one can devise an integer multiplication algorithm based on repeated additions. Design an iterative functional algorithm for integer multiplication in terms of adding, doubling and halving. The algorithm should work in O(lg n) time.\n",
    "\"\"\"\n"
   ]
  },
  {
   "cell_type": "code",
   "execution_count": 20,
   "metadata": {},
   "outputs": [
    {
     "output_type": "stream",
     "name": "stdout",
     "text": [
      "Number prime : True\n"
     ]
    }
   ],
   "source": [
    "\"\"\"\n",
    "Develop a functional algorithm to determine whether a given number is a prime or not.\n",
    "\"\"\"\n",
    "\n",
    "# using optimized prime function\n",
    "def prime(n):\n",
    "    # corner cases\n",
    "    if n <= 1:\n",
    "        return False\n",
    "    elif n <=3:\n",
    "        return True\n",
    "    # this is checked so that we can skip middle five numbers in below loop\n",
    "    if (n%2 == 0 or n%3 == 0):\n",
    "        return False\n",
    "    \n",
    "    i = 5\n",
    "    while(i * i <= n):\n",
    "        if (n % i == 0 or n % (i + 2) == 0):\n",
    "            return False\n",
    "        i = i + 6\n",
    "    return True \n",
    "\n",
    "n = 19\n",
    "print(\"Number prime :\", prime(n))"
   ]
  },
  {
   "cell_type": "code",
   "execution_count": 32,
   "metadata": {},
   "outputs": [
    {
     "output_type": "stream",
     "name": "stdout",
     "text": [
      "0\n1\n1\n2\n3\n5\n8\n13\n"
     ]
    }
   ],
   "source": [
    "\"\"\"\n",
    "Develop an algorithm to compute the sum of the first n Fibonacci numbers. The algorithm should work in O(n) time and O(1) space.\n",
    "\"\"\"\n",
    "# Python program to display the Fibonacci sequence\n",
    "\n",
    "def fibonacci(n):\n",
    "   if n <= 1:\n",
    "       return n\n",
    "   else:\n",
    "       return(fibonacci(n-1) + fibonacci(n-2))\n",
    "\n",
    "n = 8\n",
    "for i in range(n):\n",
    "    print(fibonacci(i))"
   ]
  },
  {
   "cell_type": "code",
   "execution_count": 31,
   "metadata": {},
   "outputs": [
    {
     "output_type": "execute_result",
     "data": {
      "text/plain": [
       "'\\nGiven that tn is the nth term in the expansion of sin(x), write a function to determine the n + 1th term.\\n'"
      ]
     },
     "metadata": {},
     "execution_count": 31
    }
   ],
   "source": [
    "\"\"\"\n",
    "Given that tn is the nth term in the expansion of sin(x), write a function to determine the n + 1th term.\n",
    "\"\"\"\n"
   ]
  },
  {
   "cell_type": "code",
   "execution_count": null,
   "metadata": {},
   "outputs": [],
   "source": [
    "\"\"\"\n",
    "Using your solution for the above, write a function to evaluate the value of sin(x) up to n terms.\n",
    "\"\"\""
   ]
  },
  {
   "cell_type": "code",
   "execution_count": null,
   "metadata": {},
   "outputs": [],
   "source": [
    "\"\"\"\n",
    "Suppose you have an infinite supply of coins of denomination 50p, 25p, 10p, 5p and 1p. In how many ways can you generate change for a given amount, say Rs. 1/- = 100p. Given that a function d(n) is available which gives the denomination of the nth type of coin, develop a recursive algorithm to count the number of ways to generate change for a given amount. What can you say about the number of steps required for the computation?\n",
    "\"\"\""
   ]
  },
  {
   "cell_type": "code",
   "execution_count": null,
   "metadata": {},
   "outputs": [],
   "source": [
    "\"\"\"\n",
    "Write an iterative function for the coin exchange problem. Show that a suitably defined iterative function will work faster for the given problem.\n",
    "\"\"\""
   ]
  }
 ]
}