{
 "metadata": {
  "language_info": {
   "codemirror_mode": {
    "name": "ipython",
    "version": 3
   },
   "file_extension": ".py",
   "mimetype": "text/x-python",
   "name": "python",
   "nbconvert_exporter": "python",
   "pygments_lexer": "ipython3",
   "version": "3.7.7-final"
  },
  "orig_nbformat": 2,
  "kernelspec": {
   "name": "Python 3.7.7 64-bit ('untitled1': conda)",
   "display_name": "Python 3.7.7 64-bit ('untitled1': conda)",
   "metadata": {
    "interpreter": {
     "hash": "5cd5d5ededaf7404eeafafda3154906a686585a52361ea8890e2dce0bcbf6f64"
    }
   }
  }
 },
 "nbformat": 4,
 "nbformat_minor": 2,
 "cells": [
  {
   "cell_type": "code",
   "execution_count": 2,
   "metadata": {},
   "outputs": [
    {
     "output_type": "stream",
     "name": "stdout",
     "text": [
      "25\n"
     ]
    }
   ],
   "source": [
    "# substitution function \n",
    "\n",
    "# function to find square of a natural number\n",
    "\n",
    "square = lambda num: num*num \n",
    "\n",
    "print(square(5))"
   ]
  },
  {
   "cell_type": "code",
   "execution_count": 6,
   "metadata": {},
   "outputs": [
    {
     "output_type": "stream",
     "name": "stdout",
     "text": [
      "25\n"
     ]
    }
   ],
   "source": [
    "# function to find sum of squares of two number\n",
    "\n",
    "def sum_squares(x, y):\n",
    "    return square(x) + square(y)\n",
    "\n",
    "print(sum_squares(3, 4))"
   ]
  },
  {
   "cell_type": "code",
   "execution_count": 7,
   "metadata": {},
   "outputs": [
    {
     "output_type": "stream",
     "name": "stdout",
     "text": [
      "85\n"
     ]
    }
   ],
   "source": [
    "# function to find sum of two consecutive number\n",
    "\n",
    "def sum_squares(n):\n",
    "    return square(n+1) + square(n+2)\n",
    "\n",
    "print(sum_squares(5))"
   ]
  },
  {
   "cell_type": "code",
   "execution_count": 8,
   "metadata": {},
   "outputs": [
    {
     "output_type": "stream",
     "name": "stdout",
     "text": [
      "43\n"
     ]
    }
   ],
   "source": [
    "# substitution using let to avoid multiple computation\n",
    "\n",
    "# f(x, y) = x(1 + xy)^2 + y(1-y) + (1+xy)(1-y)\n",
    "\n",
    "def f(x, y):\n",
    "    a = 1 + (x*y)\n",
    "    b = 1 - y\n",
    "    return x*a*a + y*b + a*b\n",
    "\n",
    "print(f(2, 2))"
   ]
  },
  {
   "cell_type": "code",
   "execution_count": 9,
   "metadata": {},
   "outputs": [
    {
     "output_type": "stream",
     "name": "stdout",
     "text": [
      "20\n"
     ]
    }
   ],
   "source": [
    "# using conditional in function \n",
    "# function for finding max of two number \n",
    "\n",
    "def max_num(x, y):\n",
    "    if x >= y:\n",
    "        return x\n",
    "    else:\n",
    "        return y\n",
    "\n",
    "print(max_num(10, 20))"
   ]
  },
  {
   "cell_type": "code",
   "execution_count": 10,
   "metadata": {},
   "outputs": [
    {
     "output_type": "stream",
     "name": "stdout",
     "text": [
      "10\n"
     ]
    }
   ],
   "source": [
    "# function for absolute of a number \n",
    "\n",
    "def abs(x):\n",
    "    if x > 0:\n",
    "        return x\n",
    "    elif x == 0:\n",
    "        return 0\n",
    "    else: \n",
    "        return -x\n",
    "\n",
    "print(abs(-10))"
   ]
  },
  {
   "cell_type": "code",
   "execution_count": 11,
   "metadata": {},
   "outputs": [
    {
     "output_type": "stream",
     "name": "stdout",
     "text": [
      "6\n"
     ]
    }
   ],
   "source": [
    "# functions as inductively defined computational process\n",
    "\n",
    "# computing GCD of two numbers \n",
    "\n",
    "def gcd(a, b):\n",
    "    if a == b:\n",
    "        return a\n",
    "    elif a > b:\n",
    "        return gcd(a-b, b)\n",
    "    else:\n",
    "        return gcd(a, b-a)\n",
    "\n",
    "print(gcd(18, 12))"
   ]
  },
  {
   "cell_type": "code",
   "execution_count": 13,
   "metadata": {},
   "outputs": [
    {
     "output_type": "stream",
     "name": "stdout",
     "text": [
      "10\n"
     ]
    }
   ],
   "source": [
    "# function to assure mathematical valid specification is algorithm\n",
    "\n",
    "\"\"\"\n",
    "mathematical valid but not algorithm - f(n) = f(n+1) -1 ( will result in error)\n",
    "mathematical valide and algorithmic form - g(n) = g(n-1) + 1\n",
    "\"\"\"\n",
    "\n",
    "def g(n):\n",
    "    if n == 0:\n",
    "        return 0\n",
    "    else:\n",
    "        return g(n-1) + 1\n",
    "\n",
    "print(g(10))"
   ]
  },
  {
   "cell_type": "code",
   "execution_count": 14,
   "metadata": {},
   "outputs": [
    {
     "output_type": "stream",
     "name": "stdout",
     "text": [
      "3628800\n"
     ]
    }
   ],
   "source": [
    "# using recursive function to calculate factorial of a number\n",
    "\n",
    "def factorial(n):\n",
    "    if n == 0:\n",
    "        return 1 \n",
    "    else:\n",
    "        return n * factorial(n-1)\n",
    "\n",
    "print(factorial(10))"
   ]
  },
  {
   "cell_type": "code",
   "execution_count": 16,
   "metadata": {},
   "outputs": [
    {
     "output_type": "stream",
     "name": "stdout",
     "text": [
      "2\n"
     ]
    }
   ],
   "source": [
    "# recursive function to calculate f(n) = n - f(n-1) otherwise ; 1 if n = 0\n",
    "\n",
    "def fact(n):\n",
    "    if n == 0:\n",
    "        return 1\n",
    "    else:\n",
    "        return n - fact(n-1)\n",
    "\n",
    "print(fact(5))"
   ]
  },
  {
   "cell_type": "code",
   "execution_count": 24,
   "metadata": {},
   "outputs": [
    {
     "output_type": "stream",
     "name": "stdout",
     "text": [
      "-2.0000000000000004\nRuntime :  0.0003559589385986328\n"
     ]
    }
   ],
   "source": [
    "# function to find determinant of matrix \n",
    "\n",
    "import numpy as np\n",
    "import time\n",
    "\n",
    "# determinant of 2*2 matrix \n",
    "matrix = np.array([[1, 2], \n",
    "                   [3, 4]])\n",
    "\n",
    "start_time = time.time()\n",
    "determinant = np.linalg.det(matrix)\n",
    "end_time = time.time()\n",
    "\n",
    "print(determinant)\n",
    "\n",
    "print(\"Runtime : \", end_time - start_time)"
   ]
  },
  {
   "cell_type": "code",
   "execution_count": 25,
   "metadata": {},
   "outputs": [
    {
     "output_type": "stream",
     "name": "stdout",
     "text": [
      "-43.00000000000006\nRuntime :  0.00033593177795410156\n"
     ]
    }
   ],
   "source": [
    "# determinant of 3*3 matrix \n",
    "matrix = np.array([[67, 19, 21], \n",
    "                   [39, 13, 14], \n",
    "                   [81, 24, 26]])\n",
    "\n",
    "start_time = time.time()\n",
    "determinant = np.linalg.det(matrix)\n",
    "end_time = time.time()\n",
    "\n",
    "print(determinant)\n",
    "\n",
    "print(\"Runtime : \", end_time - start_time)"
   ]
  },
  {
   "cell_type": "code",
   "execution_count": 26,
   "metadata": {},
   "outputs": [
    {
     "output_type": "stream",
     "name": "stdout",
     "text": [
      "153591.9999999999\nRuntime :  0.0002529621124267578\n"
     ]
    }
   ],
   "source": [
    "# determinant of 3*3 matrix \n",
    "matrix = np.array([[67, 19, 21, 48], \n",
    "                   [39, 13, 14, 78], \n",
    "                   [81, 24, 26, 47], \n",
    "                   [34, 46, 67, 12]])\n",
    "\n",
    "start_time = time.time()\n",
    "determinant = np.linalg.det(matrix)\n",
    "end_time = time.time()\n",
    "\n",
    "print(determinant)\n",
    "\n",
    "print(\"Runtime : \", end_time - start_time)"
   ]
  },
  {
   "cell_type": "code",
   "execution_count": null,
   "metadata": {},
   "outputs": [],
   "source": [
    "# function of gaussian elimination "
   ]
  },
  {
   "cell_type": "code",
   "execution_count": 34,
   "metadata": {},
   "outputs": [
    {
     "output_type": "stream",
     "name": "stdout",
     "text": [
      "158\nRuntime :  0.0019268989562988281\n"
     ]
    }
   ],
   "source": [
    "# big 'O' notation and time complexity\n",
    "\n",
    "def find_sum(array):\n",
    "    sum = 0\n",
    "    for i in array:\n",
    "        sum = sum + i\n",
    "    return sum \n",
    "\n",
    "given_array = [1, 4, 3, 2, 7, 6, 8, 9, 5, 10, 11, 25, 34, 32, 1]\n",
    "start_time = time.time()\n",
    "print(find_sum(given_array))\n",
    "end_time = time.time()\n",
    "\n",
    "print(\"Runtime : \", end_time - start_time)\n",
    "\n",
    "# note - changing size of array will increase runtime for program linearly"
   ]
  },
  {
   "cell_type": "code",
   "execution_count": 38,
   "metadata": {},
   "outputs": [
    {
     "output_type": "stream",
     "name": "stdout",
     "text": [
      "1000\n"
     ]
    }
   ],
   "source": [
    "# function to calculate power power(x, n) = x^n\n",
    "\n",
    "def power(x, n):\n",
    "    if n == 0:\n",
    "        return 1\n",
    "    else:\n",
    "        return x * power(x, n-1)\n",
    "\n",
    "print(power(10, 3))"
   ]
  },
  {
   "cell_type": "code",
   "execution_count": 46,
   "metadata": {},
   "outputs": [
    {
     "output_type": "stream",
     "name": "stdout",
     "text": [
      "1000\n"
     ]
    }
   ],
   "source": [
    "# above power function is modified to fast_power to reduce time complexity and runtime\n",
    "\n",
    "def fast_power(x, n):\n",
    "    if n == 0:\n",
    "        return 1\n",
    "    elif n % 2 == 1:\n",
    "        return x * square(fast_power(x, n//2))\n",
    "    else:\n",
    "        return square(fast_power(x, n//2))\n",
    "    \n",
    "print(fast_power(10, 3))"
   ]
  },
  {
   "cell_type": "code",
   "execution_count": 53,
   "metadata": {},
   "outputs": [
    {
     "output_type": "stream",
     "name": "stdout",
     "text": [
      "13\n"
     ]
    }
   ],
   "source": [
    "# function to compute fibonacci using non-linear recursion rather than linear recursion, rectify inefficiencies due to double calculations \n",
    "\n",
    "def fib(n):\n",
    "    if n == 1 or n == 2:\n",
    "        return 1\n",
    "    else:\n",
    "        return fib(n-1) + fib(n-2)\n",
    "\n",
    "print(fib(7))"
   ]
  },
  {
   "cell_type": "code",
   "execution_count": 76,
   "metadata": {},
   "outputs": [
    {
     "output_type": "stream",
     "name": "stdout",
     "text": [
      "25\n"
     ]
    }
   ],
   "source": [
    "# function to count the number of primes between integers a and b (both inclusive )\n",
    "\n",
    "# using optimized prime function\n",
    "def prime(n):\n",
    "    # corner cases\n",
    "    if n <= 1:\n",
    "        return False\n",
    "    elif n <=3:\n",
    "        return True\n",
    "    # this is checked so that we can skip middle five numbers in below loop\n",
    "    if (n%2 == 0 or n%3 == 0):\n",
    "        return False\n",
    "    \n",
    "    i = 5\n",
    "    while(i * i <= n):\n",
    "        if (n % i == 0 or n % (i + 2) == 0):\n",
    "            return False\n",
    "        i = i + 6\n",
    "    return True \n",
    "\n",
    "# time complexities of count_prime function depends upon time complexities of prime # function \n",
    "def count_primes(a, b):\n",
    "    if a > b :\n",
    "        return 0\n",
    "    elif prime(b) == True:\n",
    "        return 1 + count_primes(a, b-1) \n",
    "    else:\n",
    "        return count_primes(a, b-1)\n",
    "\n",
    "print(count_primes(2, 100))"
   ]
  },
  {
   "cell_type": "code",
   "execution_count": 78,
   "metadata": {},
   "outputs": [
    {
     "output_type": "stream",
     "name": "stdout",
     "text": [
      "18\n"
     ]
    }
   ],
   "source": [
    "# function to calculate summation of a function (f(n) = 2n) in range of two numbers \n",
    "\n",
    "def f(n):\n",
    "    return 2*n\n",
    "\n",
    "def sum(a, b):\n",
    "    if a > b:\n",
    "        return 0\n",
    "    else:\n",
    "        return (f(b) + sum(a, b-1))\n",
    "\n",
    "print(sum(2, 4))\n"
   ]
  },
  {
   "cell_type": "code",
   "execution_count": 82,
   "metadata": {},
   "outputs": [
    {
     "output_type": "stream",
     "name": "stdout",
     "text": [
      "Not Perfect number\n"
     ]
    }
   ],
   "source": [
    "# function to determined whether a positive integer is a perfect number or not \n",
    "\n",
    "def addfactors(n):\n",
    "    return sum(1, n//2)\n",
    "\n",
    "def perfect(n):\n",
    "    if n == addfactors(n):\n",
    "        print(\"Perfect number\")\n",
    "    else:\n",
    "        print(\"Not Perfect number\")\n",
    "\n",
    "perfect(28)\n"
   ]
  },
  {
   "cell_type": "code",
   "execution_count": null,
   "metadata": {},
   "outputs": [],
   "source": []
  }
 ]
}