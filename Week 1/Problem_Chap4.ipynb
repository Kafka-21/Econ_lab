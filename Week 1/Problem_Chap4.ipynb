{
 "metadata": {
  "language_info": {
   "codemirror_mode": {
    "name": "ipython",
    "version": 3
   },
   "file_extension": ".py",
   "mimetype": "text/x-python",
   "name": "python",
   "nbconvert_exporter": "python",
   "pygments_lexer": "ipython3",
   "version": "3.7.7-final"
  },
  "orig_nbformat": 2,
  "kernelspec": {
   "name": "Python 3.7.7 64-bit ('untitled1': conda)",
   "display_name": "Python 3.7.7 64-bit ('untitled1': conda)",
   "metadata": {
    "interpreter": {
     "hash": "5cd5d5ededaf7404eeafafda3154906a686585a52361ea8890e2dce0bcbf6f64"
    }
   }
  }
 },
 "nbformat": 4,
 "nbformat_minor": 2,
 "cells": [
  {
   "cell_type": "code",
   "execution_count": 3,
   "metadata": {},
   "outputs": [
    {
     "output_type": "stream",
     "name": "stdout",
     "text": [
      "Initial Value :\n10 20\nValue after swapping :\n20 10\n"
     ]
    }
   ],
   "source": [
    "# program to exchange value of two variables a and b (Swapping)\n",
    "\n",
    "a, b = 10, 20\n",
    "print(\"Initial Value :\")\n",
    "print(a, b)\n",
    "temp = a # using temporary variable to store value for swapping \n",
    "a = b \n",
    "b = temp\n",
    "print(\"Value after swapping :\")\n",
    "print(a, b)"
   ]
  },
  {
   "cell_type": "code",
   "execution_count": 7,
   "metadata": {},
   "outputs": [
    {
     "output_type": "stream",
     "name": "stdout",
     "text": [
      "Initial value of a, b , c : 10 20 30\nValues after swapping:  20 30 10\n"
     ]
    }
   ],
   "source": [
    "\"\"\"\n",
    "Given the pre-condition (a = a0) ∧ (b = b0) ∧ (c = c0) write imperative algorithms to achieve the following post-conditions:\n",
    "1. (a=b0)∧(b=c0)∧(c=a0) 2. (a=c0)∧(b=a0)∧(c=b0)\n",
    "\"\"\"\n",
    "\n",
    "a, b, c = 10, 20, 30\n",
    "\n",
    "print(\"Initial value of a, b , c :\", a, b, c)\n",
    "\n",
    "# swapping algorithm for case 1\n",
    "\n",
    "temp1 = a\n",
    "a = b\n",
    "b = c\n",
    "c = temp1 \n",
    "\n",
    "print(\"Values after swapping: \", a, b, c)"
   ]
  },
  {
   "cell_type": "code",
   "execution_count": 8,
   "metadata": {},
   "outputs": [
    {
     "output_type": "stream",
     "name": "stdout",
     "text": [
      "Intial value : 20 10\nValues after swapping:  10 20\n"
     ]
    }
   ],
   "source": [
    "\"\"\"\n",
    "Swap the values of variables a and b (which are of the same type) if a > b.\n",
    "\"\"\"\n",
    "\n",
    "a, b = 20, 10\n",
    "print(\"Intial value :\", a, b)\n",
    "if a > b :\n",
    "    temp = a\n",
    "    a = b\n",
    "    b = temp\n",
    "\n",
    "print(\"Values after swapping: \", a, b)\n",
    "\n"
   ]
  },
  {
   "cell_type": "code",
   "execution_count": 10,
   "metadata": {},
   "outputs": [
    {
     "output_type": "stream",
     "name": "stdout",
     "text": [
      "Initial value of x : -10\nValue now : 10\n"
     ]
    }
   ],
   "source": [
    "\"\"\"\n",
    "Program to ensure that x is always non-negative.\n",
    "\"\"\"\n",
    "\n",
    "x = -10 \n",
    "print(\"Initial value of x :\", x)\n",
    "if x < 0:\n",
    "    x = -x\n",
    "print(\"Value now :\", x)\n"
   ]
  },
  {
   "cell_type": "code",
   "execution_count": 18,
   "metadata": {},
   "outputs": [
    {
     "output_type": "stream",
     "name": "stdout",
     "text": [
      "Equation form : 1x^2 + 2x + 1\nroots of equation : \n root 1 = -1 + 0i \n root 2 = -1 + 0i \n"
     ]
    }
   ],
   "source": [
    "# Program to find roots of quadratic equation\n",
    "\n",
    "import math\n",
    "\n",
    "# value of coefficient of equation\n",
    "a, b, c = 1, 2, 1\n",
    "\n",
    "print(\"Equation form : %dx^2 + %dx + %d\" %(a , b, c))\n",
    "\n",
    "d = b*b - 4*a*c\n",
    "\n",
    "if d >= 0:\n",
    "    e = math.sqrt(d)\n",
    "    r1 = (-b+e) / (2*a)\n",
    "    r2 = (-b-e) / (2*a)\n",
    "    i1 = 0\n",
    "    i2 = 0\n",
    "else:\n",
    "    e = math.sqrt(-d)\n",
    "    r1 = (-b) / (2*a)\n",
    "    r2 = (-b) / (2*a)\n",
    "    i1 = e/(2*a)\n",
    "    i2 = -e/(2*a)\n",
    "\n",
    "print(\"roots of equation : \\n root 1 = %d + %di \\n root 2 = %d + %di \" %(r1, i1, r2, i2))"
   ]
  },
  {
   "cell_type": "code",
   "execution_count": 20,
   "metadata": {},
   "outputs": [
    {
     "output_type": "stream",
     "name": "stdout",
     "text": [
      "1\n2\n6\n24\n120\n"
     ]
    }
   ],
   "source": [
    "# using While do for factorial calculation\n",
    "\n",
    "f = 1\n",
    "c = 0\n",
    "n = 5\n",
    "\n",
    "while(c != n):\n",
    "    f = f*(c+1)\n",
    "    c = c + 1\n",
    "    print(f)"
   ]
  },
  {
   "cell_type": "code",
   "execution_count": 24,
   "metadata": {},
   "outputs": [
    {
     "output_type": "stream",
     "name": "stdout",
     "text": [
      "Minimum number is : 90\n"
     ]
    }
   ],
   "source": [
    "# function to find the minimum of three input integers.\n",
    "\n",
    "a, b, c = 400, 300, 90\n",
    "\n",
    "if ( a <= b and a <=c ):\n",
    "    min = a\n",
    "elif ( b <=a and b <= c):\n",
    "    min = b\n",
    "else:\n",
    "    min = c\n",
    "\n",
    "print(\"Minimum number is :\", min)\n"
   ]
  },
  {
   "cell_type": "code",
   "execution_count": null,
   "metadata": {},
   "outputs": [],
   "source": []
  }
 ]
}