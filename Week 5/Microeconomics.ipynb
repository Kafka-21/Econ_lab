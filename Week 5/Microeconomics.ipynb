{
 "metadata": {
  "language_info": {
   "codemirror_mode": {
    "name": "ipython",
    "version": 3
   },
   "file_extension": ".py",
   "mimetype": "text/x-python",
   "name": "python",
   "nbconvert_exporter": "python",
   "pygments_lexer": "ipython3",
   "version": "3.7.7-final"
  },
  "orig_nbformat": 2,
  "kernelspec": {
   "name": "python37764bituntitled1conda4a48feaffc41422ab89c08e8f7ba65a3",
   "display_name": "Python 3.7.7 64-bit ('untitled1': conda)"
  }
 },
 "nbformat": 4,
 "nbformat_minor": 2,
 "cells": [
  {
   "cell_type": "code",
   "execution_count": 5,
   "metadata": {},
   "outputs": [
    {
     "output_type": "execute_result",
     "data": {
      "text/plain": [
       "12*x + y"
      ],
      "text/latex": "$\\displaystyle 12 x + y$"
     },
     "metadata": {},
     "execution_count": 5
    }
   ],
   "source": [
    "# Program to calculate marginal rate of subsitution\n",
    "\n",
    "from sympy import Symbol\n",
    "\n",
    "x, y= Symbol('x'), Symbol('y')\n",
    "\n",
    "# defining utility function\n",
    "utility = 12*x + y\n",
    "utility"
   ]
  },
  {
   "cell_type": "code",
   "execution_count": 6,
   "metadata": {},
   "outputs": [
    {
     "output_type": "execute_result",
     "data": {
      "text/plain": [
       "12"
      ],
      "text/latex": "$\\displaystyle 12$"
     },
     "metadata": {},
     "execution_count": 6
    }
   ],
   "source": [
    "# calculating marginal utility wrt x \n",
    "utility_prime_x = utility.diff(x)\n",
    "utility_prime_x"
   ]
  },
  {
   "cell_type": "code",
   "execution_count": 7,
   "metadata": {},
   "outputs": [
    {
     "output_type": "execute_result",
     "data": {
      "text/plain": [
       "1"
      ],
      "text/latex": "$\\displaystyle 1$"
     },
     "metadata": {},
     "execution_count": 7
    }
   ],
   "source": [
    "# calculating marginal utility wrt y \n",
    "utility_prime_y = utility.diff(y)\n",
    "utility_prime_y"
   ]
  },
  {
   "cell_type": "code",
   "execution_count": 8,
   "metadata": {},
   "outputs": [
    {
     "output_type": "execute_result",
     "data": {
      "text/plain": [
       "12"
      ],
      "text/latex": "$\\displaystyle 12$"
     },
     "metadata": {},
     "execution_count": 8
    }
   ],
   "source": [
    "# MRS calculation\n",
    "MRS = utility_prime_x / utility_prime_y\n",
    "MRS"
   ]
  },
  {
   "cell_type": "code",
   "execution_count": 9,
   "metadata": {},
   "outputs": [
    {
     "output_type": "execute_result",
     "data": {
      "text/plain": [
       "6*x**2 + 3*x*y + 2*y**2"
      ],
      "text/latex": "$\\displaystyle 6 x^{2} + 3 x y + 2 y^{2}$"
     },
     "metadata": {},
     "execution_count": 9
    }
   ],
   "source": [
    "# calculating MRTS \n",
    "\n",
    "# defining production function \n",
    "\n",
    "prod = 6 * x**2 + 3 * x * y + 2 * y**2\n",
    "prod"
   ]
  },
  {
   "cell_type": "code",
   "execution_count": 10,
   "metadata": {},
   "outputs": [
    {
     "output_type": "execute_result",
     "data": {
      "text/plain": [
       "12*x + 3*y"
      ],
      "text/latex": "$\\displaystyle 12 x + 3 y$"
     },
     "metadata": {},
     "execution_count": 10
    }
   ],
   "source": [
    "# marginal product of x \n",
    "prod_prime_x = prod.diff(x)\n",
    "prod_prime_x"
   ]
  },
  {
   "cell_type": "code",
   "execution_count": 11,
   "metadata": {},
   "outputs": [
    {
     "output_type": "execute_result",
     "data": {
      "text/plain": [
       "3*x + 4*y"
      ],
      "text/latex": "$\\displaystyle 3 x + 4 y$"
     },
     "metadata": {},
     "execution_count": 11
    }
   ],
   "source": [
    "# marginal product of y\n",
    "prod_prime_y = prod.diff(y)\n",
    "prod_prime_y"
   ]
  },
  {
   "cell_type": "code",
   "execution_count": 12,
   "metadata": {},
   "outputs": [
    {
     "output_type": "execute_result",
     "data": {
      "text/plain": [
       "(12*x + 3*y)/(3*x + 4*y)"
      ],
      "text/latex": "$\\displaystyle \\frac{12 x + 3 y}{3 x + 4 y}$"
     },
     "metadata": {},
     "execution_count": 12
    }
   ],
   "source": [
    "MRTS = prod_prime_x / prod_prime_y\n",
    "MRTS"
   ]
  },
  {
   "cell_type": "code",
   "execution_count": 12,
   "metadata": {},
   "outputs": [
    {
     "output_type": "stream",
     "name": "stdout",
     "text": [
      "16.000000000000114\nutility_max : -48.0\nutility: -85.5\n"
     ]
    }
   ],
   "source": [
    "# utility maximization problem \n",
    "\n",
    "def utility_func(P, C):\n",
    "    return -(P-20)**2 - 2 * (C-1)**2\n",
    "\n",
    "W = 10 # income \n",
    "p_P = 1 # price of potato\n",
    "p_C = 2 # price of chocolate \n",
    "\n",
    "# defining budget constraint\n",
    "def budget_constraint(W, p_P, p_C, P):\n",
    "    return (W - (p_P * P)) / p_C\n",
    "\n",
    "from scipy.optimize import minimize_scalar\n",
    "f = lambda P : -(-(P-20)**2 - 2 * (budget_constraint(W, p_P, p_C, P)-1)**2)\n",
    "res = minimize_scalar(f, method = 'brent')\n",
    "print(res.x)\n",
    "print(\"utility_max :\", utility_func(res.x, budget_constraint(W, p_P, p_C, res.x)))\n",
    "print(\"utility:\", utility_func(11, budget_constraint(W, p_P, p_C, 11)))"
   ]
  },
  {
   "cell_type": "code",
   "execution_count": 8,
   "metadata": {},
   "outputs": [
    {
     "output_type": "stream",
     "name": "stdout",
     "text": [
      "Root: 24.738633748750722\n"
     ]
    }
   ],
   "source": [
    "# Secant method \n",
    "\n",
    "def secant_method(f, x0, x1, iterations):\n",
    "    for i in range(iterations):\n",
    "        x2 = x1 - f(x1) * (x1 - x0) / float(f(x1) - f(x0))\n",
    "        x0, x1 = x1, x2\n",
    "    return x2\n",
    "\n",
    "def f_example(x):\n",
    "    return x ** 2 - 612\n",
    "\n",
    "root = secant_method(f_example, 10, 30, 5)\n",
    "\n",
    "print(\"Root: {}\".format(root))  "
   ]
  },
  {
   "cell_type": "code",
   "execution_count": 13,
   "metadata": {},
   "outputs": [
    {
     "output_type": "stream",
     "name": "stdout",
     "text": [
      "Root: 15.48925641443148\n"
     ]
    }
   ],
   "source": [
    "root = secant_method(f, 1, 30, 50)\n",
    "\n",
    "print(\"Root: {}\".format(root)) "
   ]
  },
  {
   "cell_type": "code",
   "execution_count": 14,
   "metadata": {},
   "outputs": [],
   "source": [
    "def secant(f,a,b,N):\n",
    "    '''Approximate solution of f(x)=0 on interval [a,b] by the secant method.\n",
    "\n",
    "    Parameters\n",
    "    ----------\n",
    "    f : function\n",
    "        The function for which we are trying to approximate a solution f(x)=0.\n",
    "    a,b : numbers\n",
    "        The interval in which to search for a solution. The function returns\n",
    "        None if f(a)*f(b) >= 0 since a solution is not guaranteed.\n",
    "    N : (positive) integer\n",
    "        The number of iterations to implement.\n",
    "\n",
    "    Returns\n",
    "    -------\n",
    "    m_N : number\n",
    "        The x intercept of the secant line on the the Nth interval\n",
    "            m_n = a_n - f(a_n)*(b_n - a_n)/(f(b_n) - f(a_n))\n",
    "        The initial interval [a_0,b_0] is given by [a,b]. If f(m_n) == 0\n",
    "        for some intercept m_n then the function returns this solution.\n",
    "        If all signs of values f(a_n), f(b_n) and f(m_n) are the same at any\n",
    "        iterations, the secant method fails and return None.\n",
    "\n",
    "    Examples\n",
    "    --------\n",
    "    >>> f = lambda x: x**2 - x - 1\n",
    "    >>> secant(f,1,2,5)\n",
    "    1.6180257510729614\n",
    "    '''\n",
    "    if f(a)*f(b) >= 0:\n",
    "        print(\"Secant method fails.\")\n",
    "        return None\n",
    "    a_n = a\n",
    "    b_n = b\n",
    "    for n in range(1,N+1):\n",
    "        m_n = a_n - f(a_n)*(b_n - a_n)/(f(b_n) - f(a_n))\n",
    "        f_m_n = f(m_n)\n",
    "        if f(a_n)*f_m_n < 0:\n",
    "            a_n = a_n\n",
    "            b_n = m_n\n",
    "        elif f(b_n)*f_m_n < 0:\n",
    "            a_n = m_n\n",
    "            b_n = b_n\n",
    "        elif f_m_n == 0:\n",
    "            print(\"Found exact solution.\")\n",
    "            return m_n\n",
    "        else:\n",
    "            print(\"Secant method fails.\")\n",
    "            return None\n",
    "    return a_n - f(a_n)*(b_n - a_n)/(f(b_n) - f(a_n))"
   ]
  },
  {
   "cell_type": "code",
   "execution_count": 25,
   "metadata": {},
   "outputs": [
    {
     "output_type": "stream",
     "name": "stdout",
     "text": [
      "-385.5 -342.0\nSecant method fails.\nNone\n"
     ]
    }
   ],
   "source": [
    "print(f(1), f(30))\n",
    "approx = secant(f,1,30,50)\n",
    "print(approx)"
   ]
  },
  {
   "cell_type": "code",
   "execution_count": 22,
   "metadata": {},
   "outputs": [
    {
     "output_type": "stream",
     "name": "stdout",
     "text": [
      "1.4655712311394433\n"
     ]
    }
   ],
   "source": [
    "p = lambda x: x**3 - x**2 - 1\n",
    "approx = secant(p,1,2,20)\n",
    "print(approx)"
   ]
  }
 ]
}