{
 "metadata": {
  "language_info": {
   "codemirror_mode": {
    "name": "ipython",
    "version": 3
   },
   "file_extension": ".py",
   "mimetype": "text/x-python",
   "name": "python",
   "nbconvert_exporter": "python",
   "pygments_lexer": "ipython3",
   "version": "3.7.7-final"
  },
  "orig_nbformat": 2,
  "kernelspec": {
   "name": "python37764bituntitled1conda4a48feaffc41422ab89c08e8f7ba65a3",
   "display_name": "Python 3.7.7 64-bit ('untitled1': conda)"
  }
 },
 "nbformat": 4,
 "nbformat_minor": 2,
 "cells": [
  {
   "cell_type": "code",
   "execution_count": 1,
   "metadata": {},
   "outputs": [
    {
     "output_type": "execute_result",
     "data": {
      "text/plain": [
       "12*x + y"
      ],
      "text/latex": "$\\displaystyle 12 x + y$"
     },
     "metadata": {},
     "execution_count": 1
    }
   ],
   "source": [
    "# Program to calculate marginal rate of subsitution\n",
    "\n",
    "from sympy import Symbol\n",
    "\n",
    "x, y= Symbol('x'), Symbol('y')\n",
    "\n",
    "# defining utility function\n",
    "utility = 12*x + y\n",
    "utility"
   ]
  },
  {
   "cell_type": "code",
   "execution_count": 2,
   "metadata": {},
   "outputs": [
    {
     "output_type": "execute_result",
     "data": {
      "text/plain": [
       "12"
      ],
      "text/latex": "$\\displaystyle 12$"
     },
     "metadata": {},
     "execution_count": 2
    }
   ],
   "source": [
    "# calculating marginal utility wrt x \n",
    "utility_prime_x = utility.diff(x)\n",
    "utility_prime_x"
   ]
  },
  {
   "cell_type": "code",
   "execution_count": 3,
   "metadata": {},
   "outputs": [
    {
     "output_type": "execute_result",
     "data": {
      "text/plain": [
       "1"
      ],
      "text/latex": "$\\displaystyle 1$"
     },
     "metadata": {},
     "execution_count": 3
    }
   ],
   "source": [
    "# calculating marginal utility wrt y \n",
    "utility_prime_y = utility.diff(y)\n",
    "utility_prime_y"
   ]
  },
  {
   "cell_type": "code",
   "execution_count": 4,
   "metadata": {},
   "outputs": [
    {
     "output_type": "execute_result",
     "data": {
      "text/plain": [
       "12"
      ],
      "text/latex": "$\\displaystyle 12$"
     },
     "metadata": {},
     "execution_count": 4
    }
   ],
   "source": [
    "# MRS calculation\n",
    "MRS = utility_prime_x / utility_prime_y\n",
    "MRS"
   ]
  },
  {
   "cell_type": "code",
   "execution_count": 8,
   "metadata": {},
   "outputs": [
    {
     "output_type": "execute_result",
     "data": {
      "text/plain": [
       "6*x**2 + 3*x*y + 2*y**2"
      ],
      "text/latex": "$\\displaystyle 6 x^{2} + 3 x y + 2 y^{2}$"
     },
     "metadata": {},
     "execution_count": 8
    }
   ],
   "source": [
    "# calculating MRTS \n",
    "\n",
    "# defining production function \n",
    "\n",
    "prod = 6 * x**2 + 3 * x * y + 2 * y**2\n",
    "prod"
   ]
  },
  {
   "cell_type": "code",
   "execution_count": 7,
   "metadata": {},
   "outputs": [
    {
     "output_type": "execute_result",
     "data": {
      "text/plain": [
       "12*x + 3*y"
      ],
      "text/latex": "$\\displaystyle 12 x + 3 y$"
     },
     "metadata": {},
     "execution_count": 7
    }
   ],
   "source": [
    "# marginal product of x \n",
    "prod_prime_x = prod.diff(x)\n",
    "prod_prime_x"
   ]
  },
  {
   "cell_type": "code",
   "execution_count": 9,
   "metadata": {},
   "outputs": [
    {
     "output_type": "execute_result",
     "data": {
      "text/plain": [
       "3*x + 4*y"
      ],
      "text/latex": "$\\displaystyle 3 x + 4 y$"
     },
     "metadata": {},
     "execution_count": 9
    }
   ],
   "source": [
    "# marginal product of y\n",
    "prod_prime_y = prod.diff(y)\n",
    "prod_prime_y"
   ]
  },
  {
   "cell_type": "code",
   "execution_count": 12,
   "metadata": {},
   "outputs": [
    {
     "output_type": "execute_result",
     "data": {
      "text/plain": [
       "(12*x + 3*y)/(3*x + 4*y)"
      ],
      "text/latex": "$\\displaystyle \\frac{12 x + 3 y}{3 x + 4 y}$"
     },
     "metadata": {},
     "execution_count": 12
    }
   ],
   "source": [
    "MRTS = prod_prime_x / prod_prime_y\n",
    "MRTS"
   ]
  },
  {
   "cell_type": "code",
   "execution_count": 8,
   "metadata": {},
   "outputs": [
    {
     "output_type": "stream",
     "name": "stdout",
     "text": [
      "16.000000000000114\nutility_max : -48.0\nutility: -85.5\n"
     ]
    }
   ],
   "source": [
    "# utility maximization problem \n",
    "\n",
    "def utility_func(P, C):\n",
    "    return -(P-20)**2 - 2 * (C-1)**2\n",
    "\n",
    "W = 10 # income \n",
    "p_P = 1 # price of potato\n",
    "p_C = 2 # price of chocolate \n",
    "\n",
    "# defining budget constraint\n",
    "def budget_constraint(W, p_P, p_C, P):\n",
    "    return (W - (p_P * P)) / p_C\n",
    "\n",
    "from scipy.optimize import minimize_scalar\n",
    "f = lambda P : -(-(P-20)**2 - 2 * (budget_constraint(W, p_P, p_C, P)-1)**2)\n",
    "res = minimize_scalar(f, method = 'brent')\n",
    "print(res.x)\n",
    "print(\"utility_max :\", utility_func(res.x, budget_constraint(W, p_P, p_C, res.x)))\n",
    "print(\"utility:\", utility_func(11, budget_constraint(W, p_P, p_C, 11)))"
   ]
  },
  {
   "cell_type": "code",
   "execution_count": null,
   "metadata": {},
   "outputs": [],
   "source": []
  }
 ]
}